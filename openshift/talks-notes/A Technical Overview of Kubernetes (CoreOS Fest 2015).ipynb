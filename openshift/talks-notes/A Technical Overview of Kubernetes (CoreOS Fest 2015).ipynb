{
 "cells": [
  {
   "cell_type": "markdown",
   "metadata": {},
   "source": [
    "## A Technical Overview of Kubernetes (CoreOS Fest 2015)"
   ]
  },
  {
   "cell_type": "markdown",
   "metadata": {},
   "source": [
    "Desc: Brendan Burns, Software engineer and a founder of Kubernetes at Google gives a technical overview of Kubernetes."
   ]
  },
  {
   "cell_type": "markdown",
   "metadata": {},
   "source": [
    "### Pod:"
   ]
  },
  {
   "cell_type": "markdown",
   "metadata": {},
   "source": [
    "- Containers share namespaces in a pod, like network, ipc, volume\n",
    "\n",
    "- Every object has labels, \n",
    "\n",
    "- Atomic unit of Scheduling; services that makes sense of running together, stay in same pod but in different container e.g. webserver and git syncer OR webserver and redis.\n",
    "\n",
    "- They are not in same container because, it separation of concerns, so easy to manage, like object oriented programming.\n",
    "\n",
    "- They(containers in same pod) can address each other as localhost, they have shared memory\n",
    "\n",
    "- And are smallest schedulable unit in k8s."
   ]
  },
  {
   "cell_type": "markdown",
   "metadata": {},
   "source": [
    "### Labels:"
   ]
  },
  {
   "cell_type": "markdown",
   "metadata": {},
   "source": [
    "- e.g. frontend, production\n",
    "- e.g. backend, production\n",
    "\n",
    "- Helps slice resources accross depending on labels, powerful mechanism."
   ]
  },
  {
   "cell_type": "markdown",
   "metadata": {},
   "source": [
    "### Reconciliation:"
   ]
  },
  {
   "cell_type": "markdown",
   "metadata": {},
   "source": [
    "- Kubernetes is always doing reconciliation.\n",
    "\n",
    "- It is getting from current state to desired state.\n",
    "\n",
    "- It tries to maintain the desired state, get current state to desired state"
   ]
  },
  {
   "cell_type": "markdown",
   "metadata": {},
   "source": [
    "### Replication controller:"
   ]
  },
  {
   "cell_type": "markdown",
   "metadata": {},
   "source": [
    "- It has templates, labels, number, image, flags\n",
    "\n",
    "- Depending on the labels it does tasks"
   ]
  },
  {
   "cell_type": "markdown",
   "metadata": {},
   "source": [
    "### Service:"
   ]
  },
  {
   "cell_type": "markdown",
   "metadata": {},
   "source": [
    "- Known static ip address, just a dns entry, not a real ip address; exist only in routing tables\n",
    "\n",
    "- Acts as load balancer between different services, does not matter what happens in the backend it works,\n",
    "\n",
    "- Selector = label query\n",
    "\n",
    "- Port mapping"
   ]
  },
  {
   "cell_type": "markdown",
   "metadata": {},
   "source": [
    "Ref:\n",
    "\n",
    "- Video: https://www.youtube.com/watch?v=WwBdNXt6wO4\n"
   ]
  }
 ],
 "metadata": {
  "kernelspec": {
   "display_name": "Python 3",
   "language": "python",
   "name": "python3"
  },
  "language_info": {
   "codemirror_mode": {
    "name": "ipython",
    "version": 3
   },
   "file_extension": ".py",
   "mimetype": "text/x-python",
   "name": "python",
   "nbconvert_exporter": "python",
   "pygments_lexer": "ipython3",
   "version": "3.4.3"
  }
 },
 "nbformat": 4,
 "nbformat_minor": 0
}
