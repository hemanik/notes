{
 "cells": [
  {
   "cell_type": "markdown",
   "metadata": {},
   "source": [
    "## Wicked Fast PaaS - Performance Tuning of OpenShift and Docker - Jeremy Eder"
   ]
  },
  {
   "cell_type": "markdown",
   "metadata": {},
   "source": [
    "**Desc**: Learn tips and tricks on how to best configure and tune your container infrastructure for maximum performance and scale. The Performance Engineering Group at Red Hat is responsible for performance of the complete container portfolio, including Docker, RHEL "
   ]
  },
  {
   "cell_type": "markdown",
   "metadata": {},
   "source": [
    "- Super privileged containers (SPC) is a container without container, its a container that disables every namespace, and every bit of security. So this container uses hosts' network stack, uses hosts' process table, bind mounts hosts' '/' partition into the container."
   ]
  },
  {
   "cell_type": "markdown",
   "metadata": {},
   "source": [
    "- Use \"centos/tools\" container for debugging, has all debugging tools. This container is used in Atomic Hosts.\n",
    "    ```bash\n",
    "    docker run -it centos/tools\n",
    "    ```\n",
    "    \n",
    "- But usage in atomic host is like this:\n",
    "\n",
    "    ```bash\n",
    "    atomic run centos/tools\n",
    "    ``` "
   ]
  },
  {
   "cell_type": "markdown",
   "metadata": {},
   "source": [
    "- Quotas per namespace\n",
    "\n",
    "- Right now the container images are stored on different device on Atomic Host\n",
    "\n",
    "- Overlay FS has greater performance but comes with its own caveats, supported but not default.\n",
    "\n",
    "- Kubernetes has no network setup by default, so OpenShift uses OpenVSwitch with VXLAN tunnels.\n",
    "\n",
    "- Kubelet limits to 40 pods per node by default.\n",
    "\n",
    "- We need native systemd support in order to do real time processes in containers.\n",
    "\n",
    "- HA OpenShiftv3 Architecture on AWS."
   ]
  },
  {
   "cell_type": "markdown",
   "metadata": {},
   "source": [
    "Links: \n",
    "\n",
    "- Video: https://www.youtube.com/watch?v=XNrIYOk2Zog\n",
    "- Slides: https://drive.google.com/file/d/0B44EcgFDZNtXYXFrc2VyTWRuOTQ/view"
   ]
  }
 ],
 "metadata": {
  "kernelspec": {
   "display_name": "Python 3",
   "language": "python",
   "name": "python3"
  },
  "language_info": {
   "codemirror_mode": {
    "name": "ipython",
    "version": 3
   },
   "file_extension": ".py",
   "mimetype": "text/x-python",
   "name": "python",
   "nbconvert_exporter": "python",
   "pygments_lexer": "ipython3",
   "version": "3.4.3"
  }
 },
 "nbformat": 4,
 "nbformat_minor": 0
}
