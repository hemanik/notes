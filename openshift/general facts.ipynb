{
 "cells": [
  {
   "cell_type": "markdown",
   "metadata": {},
   "source": [
    "### Name discovery\n",
    "    \n",
    "#### DNS\n",
    "\n",
    "Each pod can call other service using its name. If there is a pod `apache` behind service called `web` and other pod `mariadb` behind service db, then application running on `apache` can call other service using name as `web`, openshift will take care of the name(DNS) conversion.\n",
    "\n",
    "But normally the name get converted to the FQDN as **< service_name >.< project_name >.svc.cluster.local**\n",
    "\n",
    "Ref: http://kubernetes.io/docs/user-guide/services/#dns\n",
    "\n",
    "#### Environment Variable\n",
    "\n",
    "Normally Kubernetes injects the services related environment variables into all the pods."
   ]
  },
  {
   "cell_type": "code",
   "execution_count": null,
   "metadata": {
    "collapsed": true
   },
   "outputs": [],
   "source": []
  }
 ],
 "metadata": {
  "kernelspec": {
   "display_name": "Python 3",
   "language": "python",
   "name": "python3"
  },
  "language_info": {
   "codemirror_mode": {
    "name": "ipython",
    "version": 3
   },
   "file_extension": ".py",
   "mimetype": "text/x-python",
   "name": "python",
   "nbconvert_exporter": "python",
   "pygments_lexer": "ipython3",
   "version": "3.4.3"
  }
 },
 "nbformat": 4,
 "nbformat_minor": 0
}
