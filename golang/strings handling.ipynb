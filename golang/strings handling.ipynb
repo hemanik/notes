{
 "cells": [
  {
   "cell_type": "markdown",
   "metadata": {},
   "source": [
    "## Strings"
   ]
  },
  {
   "cell_type": "markdown",
   "metadata": {},
   "source": [
    "- Strings are read-only slice of bytes.\n",
    "- Indexing a string accesses individual bytes, not characters (because string can be unicode as well)\n",
    "- Four packages are essential when working with strings: strings, bytes, strconv, unicode."
   ]
  },
  {
   "cell_type": "markdown",
   "metadata": {},
   "source": [
    "- Sample methods in `strings` package\n",
    "\n",
    "    ```go\n",
    "    fmt.Println(\"contains: \", strings.Contains(\"test\", \"es\"))\n",
    "    fmt.Println(\"Count: \", strings.Count(\"test\", \"t\"))\n",
    "    fmt.Println(\"HasPrefix: \", strings.HasPrefix(\"test\", \"te\"))\n",
    "    fmt.Println(\"HasSuffix: \", strings.HasSuffix(\"test\", \"st\"))\n",
    "\n",
    "    fmt.Println(\"Index: \", strings.Index(\"test\", \"e\"))\n",
    "\n",
    "    fmt.Println(\"Join: \", strings.Join([]string{\"a\", \"b\"}, \"-\"))\n",
    "    fmt.Println(\"Repeat: \", strings.Repeat(\"a\", 5)) \n",
    "    fmt.Println(\"Replace: \", strings.Replace(\"foo\", \"o\", \"0\", -1))\n",
    "    fmt.Println(\"Replace: \", strings.Replace(\"foo\", \"o\", \"0\", 1)) \n",
    "    fmt.Println(\"Split: \", strings.Split(\"a-b-c-d-e-f\", \"-\"))\n",
    "    fmt.Println(\"ToLower: \", strings.ToLower(\"TEST\"))\n",
    "    fmt.Println(\"ToUpper: \", strings.ToUpper(\"test\"))\n",
    "    ```"
   ]
  },
  {
   "cell_type": "markdown",
   "metadata": {},
   "source": [
    "- Some other string functions not part of `strings`\n",
    "\n",
    "    ```go\n",
    "    fmt.Println(\"Len: \", len(\"hello\"))\n",
    "    fmt.Println(\"Char: \", \"hello\"[1])    // getting character by index\n",
    "    ```"
   ]
  },
  {
   "cell_type": "markdown",
   "metadata": {},
   "source": [
    "- To concatenate multiple strings, which could be huge in size use function `strings.Join` for doing so, because, it is efficient."
   ]
  },
  {
   "cell_type": "markdown",
   "metadata": {},
   "source": [
    "## Format Specifiers"
   ]
  },
  {
   "cell_type": "markdown",
   "metadata": {},
   "source": [
    "- Formatting functions whose name end in `f` use the formatting similar to `fmt.Printf`. While the functions whose names end with `ln` formatting their arguments as if by `%v`.\n",
    "- Using format specifiers in `printf`. `Printf`, which prints the formatted string to `os.Stdout`.\n",
    "\n",
    "    ```go\n",
    "    type point struct {\n",
    "        x, y int \n",
    "    }\n",
    "    p := point{1, 2}\n",
    "    ```"
   ]
  },
  {
   "cell_type": "markdown",
   "metadata": {},
   "source": [
    "- print values of the struct\n",
    "    ```go\n",
    "    fmt.Printf(\"%v\\n\", p)\n",
    "    ```\n",
    "    \n",
    "- `%+v` variant will include the struct’s field names\n",
    "    ```go\n",
    "    fmt.Printf(\"%+v\\n\", p)\n",
    "    ```\n",
    "\n",
    "- `%#v` variant prints a Go syntax representation of the value i.e. the source code snippet that would produce that value\n",
    "    ```go\n",
    "    fmt.Printf(\"%#v\\n\", p)\n",
    "    ```"
   ]
  },
  {
   "cell_type": "markdown",
   "metadata": {},
   "source": [
    "- print the type of a value, use `%T`\n",
    "    ```go\n",
    "    fmt.Printf(\"%T\\n\", p)\n",
    "    ```\n",
    "\n",
    "- Formatting booleans\n",
    "    ```go\n",
    "    fmt.Println(\"%t\\n\", true)\n",
    "    ```\n",
    "\n",
    "- `%d` for standard, base-10 integer formatting\n",
    "    ```go\n",
    "    fmt.Println(\"%d\\n\", 123)\n",
    "    ```\n",
    "\n",
    "- prints a binary representation\n",
    "    ```go\n",
    "    fmt.Printf(\"%b\\n\", 14) \n",
    "    ```\n",
    "\n",
    "- prints the character corresponding to the given integer\n",
    "    ```go\n",
    "    fmt.Printf(\"%c\\n\", 33) \n",
    "    ```"
   ]
  },
  {
   "cell_type": "markdown",
   "metadata": {},
   "source": [
    "- `%x` provides hex encoding\n",
    "    ```go\n",
    "    fmt.Printf(\"%x\\n\", 456)\n",
    "    ```\n",
    "\n",
    "- basic decimal formatting use `%f`\n",
    "    ```go\n",
    "    fmt.Printf(\"%f\\n\", 87.324)\n",
    "    ```\n",
    "\n",
    "- gets `e` notation of power in small `e` and caps `E`\n",
    "    ```go\n",
    "    fmt.Printf(\"%e\\n\", 10000.0)\n",
    "    fmt.Printf(\"%E\\n\", 10000.0)\n",
    "    ```"
   ]
  },
  {
   "cell_type": "markdown",
   "metadata": {},
   "source": [
    "- basic string printing `%s` (does not include back slashes)\n",
    "    ```go\n",
    "    fmt.Printf(\"%s\\n\", \"\\\"string\\\"\")\n",
    "    ```\n",
    "\n",
    "- double-quote strings as in Go source, use `%q`(quoted), it will escape any non-printable byte sequences in a string.\n",
    "    ```go\n",
    "    fmt.Printf(\"%q\\n\", \"\\\"string\\\"\")\n",
    "    ```"
   ]
  },
  {
   "cell_type": "markdown",
   "metadata": {},
   "source": [
    "- `%x` renders the string in `base-16`, with two output characters per byte of input\n",
    "    ```go\n",
    "    fmt.Printf(\"%x\\n\", \"hex this thing\")\n",
    "    ```\n",
    "\n",
    "- print a representation of a pointer, use `%p`\n",
    "    ```go\n",
    "    fmt.Printf(\"%p\\n\", &p)\n",
    "    ```"
   ]
  },
  {
   "cell_type": "markdown",
   "metadata": {},
   "source": [
    "- When formatting numbers you will often want to control the width and precision of the resulting figure. To specify the width of an integer, use a number after the % in the verb. By default the result will be right-justified and padded with spaces.\n",
    "    ```go\n",
    "    fmt.Printf(\"|%6d|%6d|\\n\", 16862, 345)\n",
    "    ```"
   ]
  },
  {
   "cell_type": "markdown",
   "metadata": {},
   "source": [
    "- You can also specify the width of printed floats, though usually you’ll also want to restrict the decimal precision at the same time with the width.precision syntax.\n",
    "    ```go\n",
    "    fmt.Printf(\"|%6.2f|%6.2f|\\n\", 234.32423, 32.232)\n",
    "    ```\n",
    "\n",
    "- left-justify, use the - flag\n",
    "    ```go\n",
    "    fmt.Printf(\"|%-6.2f|%-6.2f|\\n\", 4.32423, 32.232)\n",
    "    ```"
   ]
  },
  {
   "cell_type": "markdown",
   "metadata": {},
   "source": [
    "- You may also want to control width when formatting strings, especially to ensure that they align in table-like output. For basic right-justified width.\n",
    "    ```go\n",
    "    fmt.Printf(\"|%6s|%6s|\\n\", \"foo\", \"b\")\n",
    "    ```\n",
    "\n",
    "- left-justify, use the - flag\n",
    "    ```go\n",
    "    fmt.Printf(\"|%-6s|%-6s|\\n\", \"foo\", \"b\")\n",
    "    ```"
   ]
  },
  {
   "cell_type": "markdown",
   "metadata": {},
   "source": [
    "- Table of format specifiers:\n",
    "\n",
    "- `%d` - decimal integer\n",
    "- `%x` - hexadecimal integer\n",
    "- `%o` - octal integer\n",
    "- `%b` - binary integer\n",
    "- `%f` - floating point number 1.012345\n",
    "- `%g` - floating point number 1.012345678901234\n",
    "- `%e` - floating point number 1.012345e+00\n",
    "- `%t` - boolean `true` or `false`\n",
    "- `%c` - rune (Unicode code point)\n",
    "- `%s` - string\n",
    "- `%q` - quoted string \"pqr\" or rune 'c'\n",
    "- `%v` - any value in a natural format\n",
    "- `%T` - type of any value\n",
    "- `%%` - literal percent sign (no operand)"
   ]
  },
  {
   "cell_type": "markdown",
   "metadata": {},
   "source": [
    "## Escape Sequences"
   ]
  },
  {
   "cell_type": "markdown",
   "metadata": {},
   "source": [
    "- `\\a`     \"alert\" or bell\n",
    "- `\\b`     backspace\n",
    "- `\\f`     form feed\n",
    "- `\\n`     newline\n",
    "- `\\r`     carriage return\n",
    "- `\\t`     tab\n",
    "- `\\v`     vertical tab\n",
    "- `\\'`     single quote (only in the rune literal '\\'')\n",
    "- `\\\"`     double quote (only within \"...\" literals)\n",
    "- `\\\\`     backslash"
   ]
  },
  {
   "cell_type": "markdown",
   "metadata": {},
   "source": [
    "## String Adverbs"
   ]
  },
  {
   "cell_type": "markdown",
   "metadata": {},
   "source": [
    "- Print padded string, so with `%*s`, we have to provide width of padding and string.\n",
    "\n",
    "    ```go\n",
    "    fmt.Printf(\"%*s\\n\", 10, \"Suraj\") //      Suraj\n",
    "    ```"
   ]
  },
  {
   "cell_type": "markdown",
   "metadata": {},
   "source": [
    "## Convert String"
   ]
  },
  {
   "cell_type": "markdown",
   "metadata": {},
   "source": [
    "- Use `strconv`\n",
    "- Int to String\n",
    "    ```go\n",
    "    strconv.Itoa(123)\n",
    "    ```\n",
    "- String to int\n",
    "    ```go\n",
    "    x, err := strconv.Atoi(\"123\")\n",
    "    ```"
   ]
  },
  {
   "cell_type": "markdown",
   "metadata": {},
   "source": [
    "## Write to other sources"
   ]
  },
  {
   "cell_type": "markdown",
   "metadata": {},
   "source": [
    "- `Sprintf` formats and returns a string without printing it anywhere.\n",
    "    ```go\n",
    "    s := fmt.Sprintf(\"a %s\", \"string\")\n",
    "    fmt.Println(s)\n",
    "    ```\n",
    "\n",
    "- You can format+print to `io.Writers` other than `os.Stdout` using `Fprintf`\n",
    "    ```go\n",
    "    fmt.Fprintf(os.Stderr, \"an %s\\n\", \"error\")\n",
    "    ```"
   ]
  },
  {
   "cell_type": "markdown",
   "metadata": {},
   "source": [
    "## `strings` package"
   ]
  },
  {
   "cell_type": "markdown",
   "metadata": {},
   "source": [
    "- Doing some computation on each character in string\n",
    "\n",
    "    ```go\n",
    "    func add(r rune) rune { return r + 1 }\n",
    "    fmt.Println(strings.Map(add, \"SURAJ\")) // TVSBK\n",
    "    ```"
   ]
  },
  {
   "cell_type": "markdown",
   "metadata": {},
   "source": [
    "Ref:\n",
    "\n",
    "- https://gobyexample.com/string-formatting\n",
    "- https://gobyexample.com/string-functions\n",
    "- https://blog.golang.org/strings"
   ]
  }
 ],
 "metadata": {
  "kernelspec": {
   "display_name": "Golang",
   "language": "go",
   "name": "gophernotes"
  },
  "language_info": {
   "name": "go"
  }
 },
 "nbformat": 4,
 "nbformat_minor": 0
}
