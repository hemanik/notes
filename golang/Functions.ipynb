{
 "cells": [
  {
   "cell_type": "markdown",
   "metadata": {
    "collapsed": true
   },
   "source": [
    "## Functions"
   ]
  },
  {
   "cell_type": "markdown",
   "metadata": {},
   "source": [
    "- Two functions are same type, if the sequence of parameter types and sequence of return types are same\n",
    "- Go has no concept of default parameter values, and also no way to specify arguments by name."
   ]
  },
  {
   "cell_type": "markdown",
   "metadata": {},
   "source": [
    "## Function Values\n",
    "\n",
    "- Functions can be passed around as:\n",
    "    ```go\n",
    "    func compute(fn func(float64, float64) float64) float64 {\n",
    "        return fn(3, 4)\n",
    "    }\n",
    "\n",
    "    func main() {\n",
    "        hypot := func(x, y float64) float64 {\n",
    "            return math.Sqrt(x*x + y*y)\n",
    "        }\n",
    "        fmt.Println(hypot(5, 12))\n",
    "    }\n",
    "    ```"
   ]
  },
  {
   "cell_type": "markdown",
   "metadata": {},
   "source": [
    "## Function Closure\n",
    "\n",
    "- Go functions may be closures. A closure is a function value that references variables from outside its body. The function may access and assign to the referenced variables; in this sense the function is \"bound\" to the variables. For example, the adder function returns a closure. Each closure is bound to its own sum variable.\n",
    "\n",
    "    ```go\n",
    "    func adder() func(int) int {\n",
    "        sum := 0\n",
    "        return func(x int) int {\n",
    "            sum += x\n",
    "            return sum\n",
    "        }\n",
    "    }\n",
    "\n",
    "    func main() {\n",
    "        pos, neg := adder(), adder()\n",
    "        for i := 0; i < 10; i++ {\n",
    "            fmt.Println(\n",
    "                pos(i),\n",
    "                neg(-2*i),\n",
    "            )\n",
    "        }\n",
    "    }\n",
    "    ```\n",
    "    output\n",
    "    ```bash\n",
    "    0 0\n",
    "    1 -2\n",
    "    3 -6\n",
    "    6 -12\n",
    "    10 -20\n",
    "    15 -30\n",
    "    21 -42\n",
    "    28 -56\n",
    "    36 -72\n",
    "    45 -90\n",
    "    ```"
   ]
  }
 ],
 "metadata": {
  "kernelspec": {
   "display_name": "Golang",
   "language": "go",
   "name": "gophernotes"
  },
  "language_info": {
   "name": "go"
  }
 },
 "nbformat": 4,
 "nbformat_minor": 0
}
