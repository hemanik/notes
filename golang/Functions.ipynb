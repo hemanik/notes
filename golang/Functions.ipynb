{
 "cells": [
  {
   "cell_type": "markdown",
   "metadata": {
    "collapsed": true
   },
   "source": [
    "# Functions"
   ]
  },
  {
   "cell_type": "markdown",
   "metadata": {},
   "source": [
    "- Two functions are same type, if the sequence of parameter types and sequence of return types are same\n",
    "- Go has no concept of default parameter values, and also no way to specify arguments by name."
   ]
  },
  {
   "cell_type": "markdown",
   "metadata": {},
   "source": [
    "## Function Values\n",
    "\n",
    "- Functions can be passed around as:\n",
    "    ```go\n",
    "    func compute(fn func(float64, float64) float64) float64 {\n",
    "        return fn(3, 4)\n",
    "    }\n",
    "\n",
    "    func main() {\n",
    "        hypot := func(x, y float64) float64 {\n",
    "            return math.Sqrt(x*x + y*y)\n",
    "        }\n",
    "        fmt.Println(hypot(5, 12))\n",
    "    }\n",
    "    ```"
   ]
  },
  {
   "cell_type": "markdown",
   "metadata": {},
   "source": [
    "## Anonymous Functions"
   ]
  },
  {
   "cell_type": "markdown",
   "metadata": {},
   "source": [
    "- Use the function literal to denote a function value within any expression\n",
    "    ```go\n",
    "    func createAdder(a int) func(int) int {\n",
    "        return func(n int) int {\n",
    "            return n + a \n",
    "        }   \n",
    "    }\n",
    "    func main() {\n",
    "        addbytwo := createAdder(2)\n",
    "        fmt.Println(addbytwo(4))    // 6\n",
    "        fmt.Println(addbytwo(3))    // 5\n",
    "    }\n",
    "    ```"
   ]
  },
  {
   "cell_type": "markdown",
   "metadata": {},
   "source": [
    "- Creating adder\n",
    "\n",
    "    ```go\n",
    "    func clo() func() int {\n",
    "        var a int \n",
    "        return func() int {\n",
    "            a++\n",
    "            return a\n",
    "        }   \n",
    "    }\n",
    "    func main() {\n",
    "        adder := clo()\n",
    "        fmt.Println(adder())  // 1\n",
    "        fmt.Println(adder())  // 2\n",
    "        fmt.Println(adder())  // 3\n",
    "    }\n",
    "    ```"
   ]
  },
  {
   "cell_type": "markdown",
   "metadata": {},
   "source": [
    "- Function values like these are called closures.\n",
    "- Above you must have seen that the lifetime of variable is not defined by its scope.\n",
    "- With anonymous function using recursion you should declare it first."
   ]
  },
  {
   "cell_type": "markdown",
   "metadata": {},
   "source": [
    "## Function Closure\n",
    "\n",
    "- Go functions may be closures. A closure is a function value that references variables from outside its body. The function may access and assign to the referenced variables; in this sense the function is \"bound\" to the variables. For example, the adder function returns a closure. Each closure is bound to its own sum variable.\n",
    "\n",
    "    ```go\n",
    "    func adder() func(int) int {\n",
    "        sum := 0\n",
    "        return func(x int) int {\n",
    "            sum += x\n",
    "            return sum\n",
    "        }\n",
    "    }\n",
    "\n",
    "    func main() {\n",
    "        pos, neg := adder(), adder()\n",
    "        for i := 0; i < 10; i++ {\n",
    "            fmt.Println(\n",
    "                pos(i),\n",
    "                neg(-2*i),\n",
    "            )\n",
    "        }\n",
    "    }\n",
    "    ```\n",
    "    output\n",
    "    ```bash\n",
    "    0 0\n",
    "    1 -2\n",
    "    3 -6\n",
    "    6 -12\n",
    "    10 -20\n",
    "    15 -30\n",
    "    21 -42\n",
    "    28 -56\n",
    "    36 -72\n",
    "    45 -90\n",
    "    ```"
   ]
  },
  {
   "cell_type": "markdown",
   "metadata": {},
   "source": [
    "## Variadic Functions"
   ]
  },
  {
   "cell_type": "markdown",
   "metadata": {},
   "source": [
    "- Functions with varying number of arguments\n",
    "\n",
    "    ```go\n",
    "    func mult(nums ...int) int {\n",
    "        product := 1\n",
    "        for _, n := range nums {\n",
    "            product *= n\n",
    "        }   \n",
    "        return product\n",
    "    }\n",
    "    fmt.Println(mult(5, 7, 9)) // 315\n",
    "    ```"
   ]
  },
  {
   "cell_type": "markdown",
   "metadata": {},
   "source": [
    "- `...int` above behaves like slice within the function body.\n",
    "- Internally caller makes an array of the values and copies the argument into it, and passes a slice of the entire array to the function.\n",
    "- So we can also do the following as well:\n",
    "\n",
    "    ```go\n",
    "    val := []int{1, 2, 3, 4}\n",
    "    fmt.Println(mult(val...))    // 24\n",
    "    ```\n",
    "- Passing values of the slice using ellipsis after the final argument."
   ]
  },
  {
   "cell_type": "markdown",
   "metadata": {},
   "source": [
    "## `defer` keyword"
   ]
  },
  {
   "cell_type": "markdown",
   "metadata": {},
   "source": [
    "- Defer: A defer statement defers the execution of a function until the surrounding function returns. \n",
    "    ```go\n",
    "    defer fmt.Println(\"world\")\n",
    "    fmt.Println(\"hello\", i)\n",
    "    ```\n",
    "    \n",
    "    Above will print 'hello' and then 'world'\n",
    "    \n",
    "- `defer` executes statements when function ends, this is like a `finally` block to `try`, `catch` in other languages.\n",
    "- So if the function exits normally with return or exits with error or panics, defer is gonna be executed. \n",
    "- Execution sequence is opposite to the sequence of calling defer."
   ]
  },
  {
   "cell_type": "markdown",
   "metadata": {},
   "source": [
    "- The best place to use defer is with the pair of statements like open/close, lock/unlock. So this helps to release the resources held. And the `defer` statements which release resources should be written immediately after the acquiring statment."
   ]
  },
  {
   "cell_type": "markdown",
   "metadata": {},
   "source": [
    "## Managing Errors"
   ]
  },
  {
   "cell_type": "markdown",
   "metadata": {},
   "source": [
    "- **Propogate errors**: Error in called function is sent back into this function and this function again sends on the error. So in the process of passing on errors, we can add information to error, using, `fmt.Errorf`. So basically chained errors will give more information.\n",
    "\n",
    "- **Retry failed action**: Actions that has any form of IO operation is subject to time-based failure, so in that case we can use such a strategy, try again, with some time-outs or something.\n",
    "\n",
    "- Normally all functions with significant amount of work do return errors.\n",
    "\n",
    "- If error is ignored, document it why it is done so.\n",
    "\n",
    "- Error handling in golang has a widely followed process, after a function call that returns error, the failure condition is checked first with `if err != nil` and if such a condition is found we do return with some error handling message, while success condition does not go into else block of check, but subsequent block of code is considered as success condition.\n",
    "\n",
    "- Normally functions in go, they check for all the failure causing conditions and the last one is success!"
   ]
  },
  {
   "cell_type": "markdown",
   "metadata": {},
   "source": [
    "## `panic`"
   ]
  },
  {
   "cell_type": "markdown",
   "metadata": {},
   "source": [
    "- `panic` is for runtime errors\n",
    "- When some error occurs at runtime the program panics\n",
    "- You can also use `panic` function in your code on a check of a condition that is impossible logically.\n",
    "- Even if go's panic may seem similar to exceptions in other language, but it is not.\n",
    "- Exception check in other language is similar to error check after function call in go.\n",
    "- Panic should not be used for \"expcted\" errors, like, failing IO, incorrect input, misconfiguration, etc. those kinda errors should be handled gracefully.\n",
    "- Panic causes program to crash so should be used attentively."
   ]
  },
  {
   "cell_type": "markdown",
   "metadata": {},
   "source": [
    "## `log` package"
   ]
  },
  {
   "cell_type": "markdown",
   "metadata": {},
   "source": [
    "- `log.Fatalf` is equivalent to `Printf()` followed by a call to `os.Exit(1)`.\n",
    "\n",
    "- Below two methods can be used to change the behavior of logs, and can be set anywhere and from then on its set.\n",
    "    - `log.SetPrefix` sets the output prefix for the standard logger.\n",
    "    - `log.SetFlags` sets the output flags for the standard logger. If the value is `0` then it willnot show date and time."
   ]
  }
 ],
 "metadata": {
  "kernelspec": {
   "display_name": "Golang",
   "language": "go",
   "name": "gophernotes"
  },
  "language_info": {
   "name": "go"
  }
 },
 "nbformat": 4,
 "nbformat_minor": 0
}
