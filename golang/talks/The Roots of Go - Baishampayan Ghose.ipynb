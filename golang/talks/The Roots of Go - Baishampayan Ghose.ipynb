{
 "cells": [
  {
   "cell_type": "markdown",
   "metadata": {},
   "source": [
    "# The Roots of Go - Baishampayan Ghose"
   ]
  },
  {
   "cell_type": "markdown",
   "metadata": {},
   "source": [
    "Desc: Every once in a while, a new programming language comes up that fundamentally changes how we think about computing. But even more so often, the core ideas behind a “new” language are hinged upon ideas that were first propounded by languages or systems which are much older.\n",
    "\n",
    "Often our understanding of a language’s features and the intentions thereof are limited by our understanding of its roots.\n",
    "\n",
    "In this talk, BG will talk about the origins of the core ideas behind Go and will take you on a “language-archeology” tour where we’ll trace the roots of Go."
   ]
  },
  {
   "cell_type": "markdown",
   "metadata": {},
   "source": [
    "## BCPL\n",
    "\n",
    "- Go inherits the commenting `\\\\` from BCPL\n",
    "- Go's grammer has semi-colons in them, but as programmer we don't have to write it\n",
    "- Go has automatic semi-colon injection\n",
    "- Go's lexer inserts semi-colon in right places\n",
    "- Inserting semi-colon makes parser simpler, and hence parsing and compilation phase is much faster\n",
    "- In Go the language designers they will have a trade-off that you have to start a opening brace on the same line\n"
   ]
  },
  {
   "cell_type": "markdown",
   "metadata": {},
   "source": [
    "## Modula-2\n",
    "\n",
    "- Everything in a package is visible, no intra-package security\n",
    "- But for making things visible outside the package we have to explicitly define it"
   ]
  },
  {
   "cell_type": "markdown",
   "metadata": {},
   "source": [
    "## Modula-3\n",
    "\n",
    "- Go's `fmt` comes from Modula-3"
   ]
  },
  {
   "cell_type": "markdown",
   "metadata": {},
   "source": [
    "## CSP (Communicating Sequential Processes)\n",
    "\n",
    "- Channels"
   ]
  },
  {
   "cell_type": "markdown",
   "metadata": {},
   "source": [
    "## Newsqueak\n",
    "\n",
    "- Arrow like syntax for reading from channels\n",
    "- `make` function to create channel\n",
    "- `go` keyword was called `begin` in Newsqueak"
   ]
  },
  {
   "cell_type": "markdown",
   "metadata": {},
   "source": [
    "## Smalltalk\n",
    "\n",
    "- Smalltalk emphasizes whole idea of composition over inheritance\n",
    "- Having values as method receivers"
   ]
  },
  {
   "cell_type": "markdown",
   "metadata": {},
   "source": [
    "## C, Pascal & APL\n",
    "\n",
    "- Syntax, Symantics & Pragmatics\n",
    "- `iota` from APL\n",
    "- type declaration from Pascal\n",
    "- overall syntax from C"
   ]
  },
  {
   "cell_type": "markdown",
   "metadata": {},
   "source": [
    "<img src=\"images/gogenelogy.png\">"
   ]
  },
  {
   "cell_type": "markdown",
   "metadata": {},
   "source": [
    "Links:\n",
    "\n",
    "- Video: https://www.youtube.com/watch?v=0hPOopcJ8-E\n",
    "- Slides: https://speakerdeck.com/bg/the-roots-of-go"
   ]
  }
 ],
 "metadata": {
  "kernelspec": {
   "display_name": "Golang",
   "language": "go",
   "name": "gophernotes"
  },
  "language_info": {
   "name": "go"
  }
 },
 "nbformat": 4,
 "nbformat_minor": 0
}
