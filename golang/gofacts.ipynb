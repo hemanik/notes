{
 "cells": [
  {
   "cell_type": "markdown",
   "metadata": {},
   "source": [
    "# GoFacts"
   ]
  },
  {
   "cell_type": "markdown",
   "metadata": {},
   "source": [
    "- In Go, a name is exported if it begins with a capital letter. For example, Pizza is an exported name, as is Pi, which is exported from the math package. [Ref](https://tour.golang.org/basics/3)\n",
    "\n",
    "- Go's return statements can be named. Also called as Naked returns.\n",
    "\n",
    "```go\n",
    "func abc(val int) (x, y int) {\n",
    "    return\n",
    "}\n",
    "```\n",
    "\n",
    "- `var` is used to declare variables in golang\n",
    "```go\n",
    "var a, b, c int\n",
    "```\n",
    "\n",
    "- Outside a function, every statement begins with a keyword (`var`, `func`, and so on) and so the `:=` construct is not available.\n",
    "\n",
    "- Constants are declared like variables, but with the const keyword, cannot be declared using the `:=` syntax.\n",
    "\n",
    "- Go has only one looping construct, the `for` loop.\n",
    "    ```go\n",
    "    for i := 0; i < 11; i++ {\n",
    "\n",
    "    OR\n",
    "\n",
    "    for ; sum < 1000; {\n",
    "\n",
    "    ```\n",
    "\n",
    "    `for` is go's while loop\n",
    "    ```go\n",
    "    for sum < 1000 {\n",
    "\n",
    "    ```\n",
    "    endless for\n",
    "    ```go\n",
    "    for {\n",
    "\n",
    "    ```\n",
    "\n",
    "\n",
    "- Go does not need parenthesis `(` around conditions but `{` around block of code\n",
    "\n",
    "- if statements\n",
    "    ```go\n",
    "    if x < 0 {\n",
    "    ```\n",
    "    \n",
    "    can start with a statement also, like `for`\n",
    "    ```go\n",
    "    if v := math.Pow(x, n); v < lim {\n",
    "\n",
    "    ```\n",
    "\n",
    "- Switch case\n",
    "    ```go\n",
    "    switch os := runtime.GOOS; os {\n",
    "\n",
    "    case \"darwin\":\n",
    "   \t\n",
    "    default:\n",
    "    \n",
    "    }\n",
    "    ```\n",
    "    \n",
    "    Switch without condition is default to `true`\n",
    "    ```go\n",
    "    switch {\n",
    "\tcase t.Hour() < 12:\n",
    "    }\n",
    "    ```\n",
    "- Defer: A defer statement defers the execution of a function until the surrounding function returns. \n",
    "    ```go\n",
    "    defer fmt.Println(\"world\")\n",
    "    fmt.Println(\"hello\", i)\n",
    "    ```\n",
    "    Above will print 'hello and then world'\n",
    "    \n"
   ]
  },
  {
   "cell_type": "code",
   "execution_count": null,
   "metadata": {
    "collapsed": true
   },
   "outputs": [],
   "source": []
  },
  {
   "cell_type": "code",
   "execution_count": null,
   "metadata": {
    "collapsed": true
   },
   "outputs": [],
   "source": []
  }
 ],
 "metadata": {
  "kernelspec": {
   "display_name": "Golang",
   "language": "go",
   "name": "gophernotes"
  },
  "language_info": {
   "name": "go"
  }
 },
 "nbformat": 4,
 "nbformat_minor": 0
}
