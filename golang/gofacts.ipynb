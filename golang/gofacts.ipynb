{
 "cells": [
  {
   "cell_type": "markdown",
   "metadata": {},
   "source": [
    "# GoFacts"
   ]
  },
  {
   "cell_type": "markdown",
   "metadata": {},
   "source": [
    "- In Go, a name is exported if it begins with a capital letter. For example, Pizza is an exported name, as is Pi, which is exported from the math package. [Ref](https://tour.golang.org/basics/3)\n",
    "\n",
    "- Go's return statements can be named. Also called as Naked returns.\n",
    "\n",
    "```go\n",
    "func abc(val int) (x, y int) {\n",
    "    return\n",
    "}\n",
    "```\n",
    "\n",
    "- `var` is used to declare variables in golang\n",
    "```go\n",
    "var a, b, c int\n",
    "```\n",
    "\n",
    "- Outside a function, every statement begins with a keyword (`var`, `func`, and so on) and so the `:=` construct is not available.\n",
    "\n",
    "- Constants are declared like variables, but with the const keyword, cannot be declared using the `:=` syntax."
   ]
  },
  {
   "cell_type": "code",
   "execution_count": null,
   "metadata": {
    "collapsed": true
   },
   "outputs": [],
   "source": []
  }
 ],
 "metadata": {
  "kernelspec": {
   "display_name": "Golang",
   "language": "go",
   "name": "gophernotes"
  },
  "language_info": {
   "name": "go"
  }
 },
 "nbformat": 4,
 "nbformat_minor": 0
}
