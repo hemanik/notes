{
 "cells": [
  {
   "cell_type": "markdown",
   "metadata": {},
   "source": [
    "# GoFacts"
   ]
  },
  {
   "cell_type": "markdown",
   "metadata": {},
   "source": [
    "- In Go, a name is exported if it begins with a capital letter. For example, Pizza is an exported name, as is Pi, which is exported from the math package. [Ref](https://tour.golang.org/basics/3)"
   ]
  },
  {
   "cell_type": "markdown",
   "metadata": {},
   "source": [
    "- Go's return statements can be named. Also called as Naked returns.\n",
    "\n",
    "```go\n",
    "func abc(val int) (x, y int) {\n",
    "    return\n",
    "}\n",
    "```"
   ]
  },
  {
   "cell_type": "markdown",
   "metadata": {},
   "source": [
    "- `var` is used to declare variables in golang\n",
    "```go\n",
    "var a, b, c int\n",
    "```"
   ]
  },
  {
   "cell_type": "markdown",
   "metadata": {},
   "source": [
    "- Outside a function, every statement begins with a keyword (`var`, `func`, and so on) and so the `:=` construct is not available.\n",
    "\n",
    "- Constants are declared like variables, but with the const keyword, cannot be declared using the `:=` syntax."
   ]
  },
  {
   "cell_type": "markdown",
   "metadata": {},
   "source": [
    "## Loops"
   ]
  },
  {
   "cell_type": "markdown",
   "metadata": {},
   "source": [
    "- Go has only one looping construct, the `for` loop.\n",
    "    ```go\n",
    "    for i := 0; i < 11; i++ {\n",
    "\n",
    "    OR\n",
    "\n",
    "    for ; sum < 1000; {\n",
    "\n",
    "    ```\n",
    "\n",
    "    `for` is go's while loop\n",
    "    ```go\n",
    "    for sum < 1000 {\n",
    "\n",
    "    ```\n",
    "    endless for\n",
    "    ```go\n",
    "    for {\n",
    "\n",
    "    ```"
   ]
  },
  {
   "cell_type": "markdown",
   "metadata": {},
   "source": [
    "- Go does not need parenthesis `(` around conditions but `{` around block of code"
   ]
  },
  {
   "cell_type": "markdown",
   "metadata": {},
   "source": [
    "## Control Structures"
   ]
  },
  {
   "cell_type": "markdown",
   "metadata": {},
   "source": [
    "- if statements\n",
    "    ```go\n",
    "    if x < 0 {\n",
    "    ```\n",
    "    \n",
    "    can start with a statement also, like `for`\n",
    "    ```go\n",
    "    if v := math.Pow(x, n); v < lim {\n",
    "\n",
    "    ```"
   ]
  },
  {
   "cell_type": "markdown",
   "metadata": {},
   "source": [
    "- Switch case\n",
    "    ```go\n",
    "    switch os := runtime.GOOS; os {\n",
    "\n",
    "    case \"darwin\":\n",
    "   \t\n",
    "    default:\n",
    "    \n",
    "    }\n",
    "    ```\n",
    "    \n",
    "    Switch without condition is default to `true`\n",
    "    ```go\n",
    "    switch {\n",
    "\tcase t.Hour() < 12:\n",
    "    }\n",
    "    ```"
   ]
  },
  {
   "cell_type": "markdown",
   "metadata": {},
   "source": [
    "- Defer: A defer statement defers the execution of a function until the surrounding function returns. \n",
    "    ```go\n",
    "    defer fmt.Println(\"world\")\n",
    "    fmt.Println(\"hello\", i)\n",
    "    ```\n",
    "    \n",
    "    Above will print 'hello and then world'"
   ]
  },
  {
   "cell_type": "markdown",
   "metadata": {},
   "source": [
    "## Pointers"
   ]
  },
  {
   "cell_type": "markdown",
   "metadata": {
    "collapsed": true
   },
   "source": [
    "- Pointers\n",
    "    ```go\n",
    "    var p *int\n",
    "    ```"
   ]
  },
  {
   "cell_type": "markdown",
   "metadata": {},
   "source": [
    "## Structs"
   ]
  },
  {
   "cell_type": "markdown",
   "metadata": {
    "collapsed": true
   },
   "source": [
    "- Structs\n",
    "    ```go\n",
    "    type Vertex struct {\n",
    "        X int\n",
    "        Y int\n",
    "    }\n",
    "    v := Vertex{4, 5}\n",
    "    fmt.Println(v.X, v.Y)\n",
    "    ```"
   ]
  },
  {
   "cell_type": "markdown",
   "metadata": {},
   "source": [
    "- Pointer to structure\n",
    "\n",
    "    ```go\n",
    "    x := &v\n",
    "    x.X = 6\n",
    "    x.Y = 7\n",
    "    ```\n",
    "    \n",
    "    We can use the dot opeartor to access the struct fields."
   ]
  },
  {
   "cell_type": "markdown",
   "metadata": {},
   "source": [
    "- Struct Literals\n",
    "\n",
    "    ```go\n",
    "    v1 := Vertex{X: 1}\n",
    "    v2 := Vertex{4, 5}\n",
    "    ```"
   ]
  },
  {
   "cell_type": "markdown",
   "metadata": {},
   "source": [
    "## Arrays"
   ]
  },
  {
   "cell_type": "markdown",
   "metadata": {},
   "source": [
    "- The type `[n]T` is an array of `n` values of type `T`.\n",
    "\n",
    "    ```go\n",
    "    var a [10]int\n",
    "    \n",
    "    OR\n",
    "    \n",
    "    primes := [6]int{2, 3, 5, 7, 11, 13}\n",
    "    ```"
   ]
  },
  {
   "cell_type": "markdown",
   "metadata": {},
   "source": [
    "- Array Literal\n",
    "\n",
    "    ```go\n",
    "    [3]bool{true, true, false}\n",
    "    ```"
   ]
  },
  {
   "cell_type": "markdown",
   "metadata": {},
   "source": [
    "## Slices"
   ]
  },
  {
   "cell_type": "markdown",
   "metadata": {},
   "source": [
    "- Arrays - fixed size.\n",
    "- Slices - dynamically sized.\n",
    "- The type `[]T` is a slice with elements of type `T`.\n",
    "\n",
    "    ```go\n",
    "    var s []int = primes[1:4]\n",
    "    ```"
   ]
  },
  {
   "cell_type": "markdown",
   "metadata": {},
   "source": [
    "- Slices are like references to arrays\n",
    "- A slice does not store any data, it just describes a section of an underlying array. Changing the elements of a slice modifies the corresponding elements of its underlying array. Other slices that share the same underlying array will see those changes."
   ]
  },
  {
   "cell_type": "markdown",
   "metadata": {},
   "source": [
    "- Slice Literal, A slice literal is like an array literal without the length.\n",
    "\n",
    "    ```go\n",
    "    r := []bool{true, true, false}\n",
    "    \n",
    "    s := []struct {\n",
    "        i int\n",
    "        b bool\n",
    "    }{\n",
    "        {2, true},\n",
    "        {23, false},\n",
    "        {21, true}\n",
    "    }\n",
    "    ```"
   ]
  },
  {
   "cell_type": "markdown",
   "metadata": {},
   "source": [
    "- Slice length and capacity\n",
    "\n",
    "    ```go\n",
    "    r := []int{1, 3, 4, 5, 6, 7, 8, 9, 10}\n",
    "\tfmt.Println(len(r[2:4]), cap(r[2:4]))\n",
    "    ```\n",
    "    output\n",
    "    ```bash\n",
    "    2 7\n",
    "    ```\n",
    "    \n",
    "- The length of a slice is the number of elements it contains.\n",
    "- The capacity of a slice is the number of elements in the underlying array, counting from the first element in the slice."
   ]
  },
  {
   "cell_type": "markdown",
   "metadata": {},
   "source": [
    "- Creating Slice with make\n",
    "    ```go\n",
    "    b := make([]int, 0, 5) // len(b)=0, cap(b)=5\n",
    "    ```"
   ]
  },
  {
   "cell_type": "markdown",
   "metadata": {},
   "source": [
    "- Slices of Slices\n",
    "\n",
    "    ```go\n",
    "    // Create a tic-tac-toe board.\n",
    "\tboard := [][]string{\n",
    "\t\t[]string{\"_\", \"_\", \"_\"},\n",
    "\t\t[]string{\"_\", \"_\", \"_\"},\n",
    "\t\t[]string{\"_\", \"_\", \"_\"},\n",
    "\t}\n",
    "\n",
    "    ```"
   ]
  },
  {
   "cell_type": "markdown",
   "metadata": {},
   "source": [
    "- Appending to slices\n",
    "\n",
    "    ```go\n",
    "    var s []int\n",
    "    s = append(s, 2, 3, 4)\n",
    "    ```\n",
    "    output\n",
    "    ```bash\n",
    "    2 3 4\n",
    "    ```\n",
    "\n",
    "- If the backing array of s is too small to fit all the given values a bigger array will be allocated. The returned slice will point to the newly allocated array."
   ]
  },
  {
   "cell_type": "markdown",
   "metadata": {},
   "source": [
    "## Range"
   ]
  },
  {
   "cell_type": "markdown",
   "metadata": {},
   "source": [
    "- The range form of the for loop iterates over a slice or map.\n",
    "- When ranging over a slice, two values are returned for each iteration. The first is the index, and the second is a copy of the element at that index.\n",
    "\n",
    "    ```go\n",
    "    var pow = []int{1, 2, 4, 8, 16, 32, 64, 128}\n",
    "    for i, v := range pow {\n",
    "    ```"
   ]
  },
  {
   "cell_type": "markdown",
   "metadata": {},
   "source": [
    "## Skipping some value\n",
    "\n",
    "- Any value can be skipped by assigning the value to underscore '_', similar to python\n",
    "    \n",
    "    ```go\n",
    "    for _, value := range pow {\n",
    "    ```"
   ]
  },
  {
   "cell_type": "markdown",
   "metadata": {},
   "source": [
    "## Maps"
   ]
  },
  {
   "cell_type": "markdown",
   "metadata": {},
   "source": [
    "- Similar to `dict` in python\n",
    "- Map maps keys to values\n",
    "\n",
    "    ```go\n",
    "    y := make(map[int]string)\n",
    "    y[1] = \"one\"\n",
    "    ```"
   ]
  },
  {
   "cell_type": "markdown",
   "metadata": {},
   "source": [
    "- Map Literals\n",
    "    ```go\n",
    "    x := map[int]string{\n",
    "\t\t1: \"one\",\n",
    "\t\t2: \"two\",\n",
    "\t\t3: \"three\",\n",
    "\t}\n",
    "    ```\n",
    "\n",
    "- **Note**: the comma after last field(`3: \"three\"`) is necessary, otherwise it would give error."
   ]
  },
  {
   "cell_type": "markdown",
   "metadata": {},
   "source": [
    "- Making changes to map\n",
    "    \n",
    "    Delete an element:\n",
    "    ```go\n",
    "    delete(m, key)\n",
    "    ```\n",
    "    \n",
    "    Test that a key is present with a two-value assignment:\n",
    "    ```go\n",
    "    elem, ok = m[key]\n",
    "    ```\n",
    "    If `key` is in `m`, `ok` is `true`. If not, `ok` is `false`. If `key` is not in the map, then `elem` is the `zero` value for the map's element type."
   ]
  },
  {
   "cell_type": "markdown",
   "metadata": {},
   "source": [
    "## Function Values\n",
    "\n",
    "- Functions can be passed around as:\n",
    "    ```go\n",
    "    func compute(fn func(float64, float64) float64) float64 {\n",
    "        return fn(3, 4)\n",
    "    }\n",
    "\n",
    "    func main() {\n",
    "        hypot := func(x, y float64) float64 {\n",
    "            return math.Sqrt(x*x + y*y)\n",
    "        }\n",
    "        fmt.Println(hypot(5, 12))\n",
    "    }\n",
    "    ```\n"
   ]
  },
  {
   "cell_type": "markdown",
   "metadata": {},
   "source": [
    "## Function Closure\n",
    "\n",
    "- Go functions may be closures. A closure is a function value that references variables from outside its body. The function may access and assign to the referenced variables; in this sense the function is \"bound\" to the variables. For example, the adder function returns a closure. Each closure is bound to its own sum variable.\n",
    "\n",
    "    ```go\n",
    "    func adder() func(int) int {\n",
    "        sum := 0\n",
    "        return func(x int) int {\n",
    "            sum += x\n",
    "            return sum\n",
    "        }\n",
    "    }\n",
    "\n",
    "    func main() {\n",
    "        pos, neg := adder(), adder()\n",
    "        for i := 0; i < 10; i++ {\n",
    "            fmt.Println(\n",
    "                pos(i),\n",
    "                neg(-2*i),\n",
    "            )\n",
    "        }\n",
    "    }\n",
    "    ```\n",
    "    output\n",
    "    ```bash\n",
    "    0 0\n",
    "    1 -2\n",
    "    3 -6\n",
    "    6 -12\n",
    "    10 -20\n",
    "    15 -30\n",
    "    21 -42\n",
    "    28 -56\n",
    "    36 -72\n",
    "    45 -90\n",
    "    ```"
   ]
  },
  {
   "cell_type": "markdown",
   "metadata": {},
   "source": []
  }
 ],
 "metadata": {
  "kernelspec": {
   "display_name": "Golang",
   "language": "go",
   "name": "gophernotes"
  },
  "language_info": {
   "name": "go"
  }
 },
 "nbformat": 4,
 "nbformat_minor": 0
}
