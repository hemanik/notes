{
 "cells": [
  {
   "cell_type": "markdown",
   "metadata": {},
   "source": [
    "# GoFacts"
   ]
  },
  {
   "cell_type": "markdown",
   "metadata": {},
   "source": [
    "- In Go, a name is exported if it begins with a capital letter. For example, Pizza is an exported name, as is Pi, which is exported from the math package. [Ref](https://tour.golang.org/basics/3)"
   ]
  },
  {
   "cell_type": "markdown",
   "metadata": {},
   "source": [
    "- Go's return statements can be named. Also called as Naked returns.\n",
    "\n",
    "```go\n",
    "func abc(val int) (x, y int) {\n",
    "    return\n",
    "}\n",
    "```"
   ]
  },
  {
   "cell_type": "markdown",
   "metadata": {},
   "source": [
    "- `var` is used to declare variables in golang\n",
    "```go\n",
    "var a, b, c int\n",
    "```"
   ]
  },
  {
   "cell_type": "markdown",
   "metadata": {},
   "source": [
    "- Outside a function, every statement begins with a keyword (`var`, `func`, and so on) and so the `:=` construct is not available.\n",
    "\n",
    "- Constants are declared like variables, but with the const keyword, cannot be declared using the `:=` syntax."
   ]
  },
  {
   "cell_type": "markdown",
   "metadata": {},
   "source": [
    "## Loops"
   ]
  },
  {
   "cell_type": "markdown",
   "metadata": {},
   "source": [
    "- Go has only one looping construct, the `for` loop.\n",
    "    ```go\n",
    "    for i := 0; i < 11; i++ {\n",
    "\n",
    "    OR\n",
    "\n",
    "    for ; sum < 1000; {\n",
    "\n",
    "    ```\n",
    "\n",
    "    `for` is go's while loop\n",
    "    ```go\n",
    "    for sum < 1000 {\n",
    "\n",
    "    ```\n",
    "    endless for\n",
    "    ```go\n",
    "    for {\n",
    "\n",
    "    ```"
   ]
  },
  {
   "cell_type": "markdown",
   "metadata": {},
   "source": [
    "- Go does not need parenthesis `(` around conditions but `{` around block of code"
   ]
  },
  {
   "cell_type": "markdown",
   "metadata": {},
   "source": [
    "## Control Structures"
   ]
  },
  {
   "cell_type": "markdown",
   "metadata": {},
   "source": [
    "- if statements\n",
    "    ```go\n",
    "    if x < 0 {\n",
    "    ```\n",
    "    \n",
    "    can start with a statement also, like `for`\n",
    "    ```go\n",
    "    if v := math.Pow(x, n); v < lim {\n",
    "\n",
    "    ```"
   ]
  },
  {
   "cell_type": "markdown",
   "metadata": {},
   "source": [
    "- Switch case\n",
    "    ```go\n",
    "    switch os := runtime.GOOS; os {\n",
    "\n",
    "    case \"darwin\":\n",
    "   \t\n",
    "    default:\n",
    "    \n",
    "    }\n",
    "    ```\n",
    "    \n",
    "    Switch without condition is default to `true`\n",
    "    ```go\n",
    "    switch {\n",
    "\tcase t.Hour() < 12:\n",
    "    }\n",
    "    ```"
   ]
  },
  {
   "cell_type": "markdown",
   "metadata": {},
   "source": [
    "- Defer: A defer statement defers the execution of a function until the surrounding function returns. \n",
    "    ```go\n",
    "    defer fmt.Println(\"world\")\n",
    "    fmt.Println(\"hello\", i)\n",
    "    ```\n",
    "    \n",
    "    Above will print 'hello and then world'\n",
    "    \n",
    "- `defer` executes statements when function ends, this is like a `finally` block to `try`, `catch` in other languages."
   ]
  },
  {
   "cell_type": "markdown",
   "metadata": {},
   "source": [
    "## Pointers"
   ]
  },
  {
   "cell_type": "markdown",
   "metadata": {
    "collapsed": true
   },
   "source": [
    "- Pointers\n",
    "    ```go\n",
    "    var p *int\n",
    "    ```"
   ]
  },
  {
   "cell_type": "markdown",
   "metadata": {},
   "source": [
    "## Structs"
   ]
  },
  {
   "cell_type": "markdown",
   "metadata": {
    "collapsed": true
   },
   "source": [
    "- Structs\n",
    "    ```go\n",
    "    type Vertex struct {\n",
    "        X int\n",
    "        Y int\n",
    "    }\n",
    "    v := Vertex{4, 5}\n",
    "    fmt.Println(v.X, v.Y)\n",
    "    ```"
   ]
  },
  {
   "cell_type": "markdown",
   "metadata": {},
   "source": [
    "- Pointer to structure\n",
    "\n",
    "    ```go\n",
    "    x := &v\n",
    "    x.X = 6\n",
    "    x.Y = 7\n",
    "    ```\n",
    "    \n",
    "    We can use the dot opeartor to access the struct fields."
   ]
  },
  {
   "cell_type": "markdown",
   "metadata": {},
   "source": [
    "- Struct Literals\n",
    "\n",
    "    ```go\n",
    "    v1 := Vertex{X: 1}\n",
    "    v2 := Vertex{4, 5}\n",
    "    ```"
   ]
  },
  {
   "cell_type": "markdown",
   "metadata": {},
   "source": [
    "## Arrays"
   ]
  },
  {
   "cell_type": "markdown",
   "metadata": {},
   "source": [
    "- The type `[n]T` is an array of `n` values of type `T`.\n",
    "\n",
    "    ```go\n",
    "    var a [10]int\n",
    "    \n",
    "    OR\n",
    "    \n",
    "    primes := [6]int{2, 3, 5, 7, 11, 13}\n",
    "    ```"
   ]
  },
  {
   "cell_type": "markdown",
   "metadata": {},
   "source": [
    "- Array Literal\n",
    "\n",
    "    ```go\n",
    "    [3]bool{true, true, false}\n",
    "    ```"
   ]
  },
  {
   "cell_type": "markdown",
   "metadata": {},
   "source": [
    "## Slices"
   ]
  },
  {
   "cell_type": "markdown",
   "metadata": {},
   "source": [
    "- Arrays - fixed size.\n",
    "- Slices - dynamically sized.\n",
    "- The type `[]T` is a slice with elements of type `T`.\n",
    "\n",
    "    ```go\n",
    "    var s []int = primes[1:4]\n",
    "    ```"
   ]
  },
  {
   "cell_type": "markdown",
   "metadata": {},
   "source": [
    "- Slices are like references to arrays\n",
    "- A slice does not store any data, it just describes a section of an underlying array. Changing the elements of a slice modifies the corresponding elements of its underlying array. Other slices that share the same underlying array will see those changes."
   ]
  },
  {
   "cell_type": "markdown",
   "metadata": {},
   "source": [
    "- Slice Literal, A slice literal is like an array literal without the length.\n",
    "\n",
    "    ```go\n",
    "    r := []bool{true, true, false}\n",
    "    \n",
    "    s := []struct {\n",
    "        i int\n",
    "        b bool\n",
    "    }{\n",
    "        {2, true},\n",
    "        {23, false},\n",
    "        {21, true}\n",
    "    }\n",
    "    ```"
   ]
  },
  {
   "cell_type": "markdown",
   "metadata": {},
   "source": [
    "- Slice length and capacity\n",
    "\n",
    "    ```go\n",
    "    r := []int{1, 3, 4, 5, 6, 7, 8, 9, 10}\n",
    "\tfmt.Println(len(r[2:4]), cap(r[2:4]))\n",
    "    ```\n",
    "    output\n",
    "    ```bash\n",
    "    2 7\n",
    "    ```\n",
    "    \n",
    "- The length of a slice is the number of elements it contains.\n",
    "- The capacity of a slice is the number of elements in the underlying array, counting from the first element in the slice."
   ]
  },
  {
   "cell_type": "markdown",
   "metadata": {},
   "source": [
    "- Creating Slice with make\n",
    "    ```go\n",
    "    b := make([]int, 0, 5) // len(b)=0, cap(b)=5\n",
    "    ```"
   ]
  },
  {
   "cell_type": "markdown",
   "metadata": {},
   "source": [
    "- Slices of Slices\n",
    "\n",
    "    ```go\n",
    "    // Create a tic-tac-toe board.\n",
    "\tboard := [][]string{\n",
    "\t\t[]string{\"_\", \"_\", \"_\"},\n",
    "\t\t[]string{\"_\", \"_\", \"_\"},\n",
    "\t\t[]string{\"_\", \"_\", \"_\"},\n",
    "\t}\n",
    "\n",
    "    ```"
   ]
  },
  {
   "cell_type": "markdown",
   "metadata": {},
   "source": [
    "- Appending to slices\n",
    "\n",
    "    ```go\n",
    "    var s []int\n",
    "    s = append(s, 2, 3, 4)\n",
    "    ```\n",
    "    output\n",
    "    ```bash\n",
    "    2 3 4\n",
    "    ```\n",
    "\n",
    "- If the backing array of s is too small to fit all the given values a bigger array will be allocated. The returned slice will point to the newly allocated array."
   ]
  },
  {
   "cell_type": "markdown",
   "metadata": {},
   "source": [
    "## Range"
   ]
  },
  {
   "cell_type": "markdown",
   "metadata": {},
   "source": [
    "- The range form of the for loop iterates over a slice or map.\n",
    "- When ranging over a slice, two values are returned for each iteration. The first is the index, and the second is a copy of the element at that index.\n",
    "\n",
    "    ```go\n",
    "    var pow = []int{1, 2, 4, 8, 16, 32, 64, 128}\n",
    "    for i, v := range pow {\n",
    "    ```"
   ]
  },
  {
   "cell_type": "markdown",
   "metadata": {},
   "source": [
    "## Skipping some value\n",
    "\n",
    "- Any value can be skipped by assigning the value to underscore '_', similar to python\n",
    "    \n",
    "    ```go\n",
    "    for _, value := range pow {\n",
    "    ```"
   ]
  },
  {
   "cell_type": "markdown",
   "metadata": {},
   "source": [
    "## Maps"
   ]
  },
  {
   "cell_type": "markdown",
   "metadata": {},
   "source": [
    "- Similar to `dict` in python\n",
    "- Map maps keys to values\n",
    "\n",
    "    ```go\n",
    "    y := make(map[int]string)\n",
    "    y[1] = \"one\"\n",
    "    ```"
   ]
  },
  {
   "cell_type": "markdown",
   "metadata": {},
   "source": [
    "- Map Literals\n",
    "    ```go\n",
    "    x := map[int]string{\n",
    "\t\t1: \"one\",\n",
    "\t\t2: \"two\",\n",
    "\t\t3: \"three\",\n",
    "\t}\n",
    "    ```\n",
    "\n",
    "- **Note**: the comma after last field(`3: \"three\"`) is necessary, otherwise it would give error."
   ]
  },
  {
   "cell_type": "markdown",
   "metadata": {},
   "source": [
    "- Making changes to map\n",
    "    \n",
    "    Delete an element:\n",
    "    ```go\n",
    "    delete(m, key)\n",
    "    ```\n",
    "    \n",
    "    Test that a key is present with a two-value assignment:\n",
    "    ```go\n",
    "    elem, ok = m[key]\n",
    "    ```\n",
    "    If `key` is in `m`, `ok` is `true`. If not, `ok` is `false`. If `key` is not in the map, then `elem` is the `zero` value for the map's element type."
   ]
  },
  {
   "cell_type": "markdown",
   "metadata": {},
   "source": [
    "## Function Values\n",
    "\n",
    "- Functions can be passed around as:\n",
    "    ```go\n",
    "    func compute(fn func(float64, float64) float64) float64 {\n",
    "        return fn(3, 4)\n",
    "    }\n",
    "\n",
    "    func main() {\n",
    "        hypot := func(x, y float64) float64 {\n",
    "            return math.Sqrt(x*x + y*y)\n",
    "        }\n",
    "        fmt.Println(hypot(5, 12))\n",
    "    }\n",
    "    ```\n"
   ]
  },
  {
   "cell_type": "markdown",
   "metadata": {},
   "source": [
    "## Function Closure\n",
    "\n",
    "- Go functions may be closures. A closure is a function value that references variables from outside its body. The function may access and assign to the referenced variables; in this sense the function is \"bound\" to the variables. For example, the adder function returns a closure. Each closure is bound to its own sum variable.\n",
    "\n",
    "    ```go\n",
    "    func adder() func(int) int {\n",
    "        sum := 0\n",
    "        return func(x int) int {\n",
    "            sum += x\n",
    "            return sum\n",
    "        }\n",
    "    }\n",
    "\n",
    "    func main() {\n",
    "        pos, neg := adder(), adder()\n",
    "        for i := 0; i < 10; i++ {\n",
    "            fmt.Println(\n",
    "                pos(i),\n",
    "                neg(-2*i),\n",
    "            )\n",
    "        }\n",
    "    }\n",
    "    ```\n",
    "    output\n",
    "    ```bash\n",
    "    0 0\n",
    "    1 -2\n",
    "    3 -6\n",
    "    6 -12\n",
    "    10 -20\n",
    "    15 -30\n",
    "    21 -42\n",
    "    28 -56\n",
    "    36 -72\n",
    "    45 -90\n",
    "    ```"
   ]
  },
  {
   "cell_type": "markdown",
   "metadata": {},
   "source": [
    "## Methods"
   ]
  },
  {
   "cell_type": "markdown",
   "metadata": {},
   "source": [
    "- Go does not have classes. However, you can define methods on types.\n",
    "- A method is a function with a special receiver argument.\n",
    "- The receiver appears in its own argument list between the func keyword and the method name.\n",
    "- In this example, the Abs method has a receiver of type Vertex named v.\n",
    "\n",
    "    ```go\n",
    "    type Vertex struct {\n",
    "        X, Y float64\n",
    "    }\n",
    "\n",
    "    func (v Vertex) Abs() float64 {\n",
    "        return math.Sqrt(v.X*v.X + v.Y*v.Y)\n",
    "    }\n",
    "    \n",
    "    func main() {\n",
    "        v := Vertex{3, 4}\n",
    "        fmt.Println(v.Abs())\n",
    "    }\n",
    "    ```"
   ]
  },
  {
   "cell_type": "markdown",
   "metadata": {},
   "source": [
    "- Methods are just functions with receiver argument.\n",
    "\n",
    "    ```go\n",
    "    func Abs(v Vertex) float64 {\n",
    "        return math.Sqrt(v.X*v.X + v.Y*v.Y)\n",
    "    }\n",
    "\n",
    "    func main() {\n",
    "        v := Vertex{3, 4}\n",
    "        fmt.Println(Abs(v))\n",
    "    }\n",
    "    ```"
   ]
  },
  {
   "cell_type": "markdown",
   "metadata": {},
   "source": [
    "- You can declare a method on non-struct types, too.\n",
    "- In this example we see a numeric type MyFloat with an Abs method.\n",
    "- You can only declare a method with a receiver whose type is defined in the same package as the method. You cannot declare a method with a receiver whose type is defined in another package (which includes the built-in types such as int).\n",
    "\n",
    "    ```go\n",
    "    type MyFloat float64\n",
    "\n",
    "    func (f MyFloat) Abs() float64 {\n",
    "        if f < 0 {\n",
    "            return float64(-f)\n",
    "        }\n",
    "        return float64(f)\n",
    "    }\n",
    "\n",
    "    func main() {\n",
    "        f := MyFloat(-math.Sqrt2)\n",
    "        fmt.Println(f.Abs())\n",
    "    }\n",
    "    ```"
   ]
  },
  {
   "cell_type": "markdown",
   "metadata": {},
   "source": [
    "- Pointer receiver\n",
    "\n",
    "    ```go\n",
    "    func (v *Vertex) Scale(f float64) {\n",
    "        v.X = v.X * f\n",
    "        v.Y = v.Y * f\n",
    "    }\n",
    "    ```\n",
    "\n",
    "- Methods with pointer receivers can modify the value to which the receiver points (as Scale does here). Since methods often need to modify their receiver, pointer receivers are more common than value receivers."
   ]
  },
  {
   "cell_type": "markdown",
   "metadata": {},
   "source": [
    "- Passing values by reference\n",
    "\n",
    "    ```go\n",
    "    func Scale(v *Vertex, f float64) {\n",
    "        v.X = v.X * f\n",
    "        v.Y = v.Y * f\n",
    "    }\n",
    "    func main() {\n",
    "        v := Vertex{3, 4}\n",
    "        Scale(&v, 10)\n",
    "    }\n",
    "    ```"
   ]
  },
  {
   "cell_type": "markdown",
   "metadata": {},
   "source": [
    "- Methods and Pointer Indirection\n",
    "\n",
    "    ```go\n",
    "    func (v *Vertex) Scale(f float64) {\n",
    "        v.X = v.X * f\n",
    "        v.Y = v.Y * f\n",
    "    }\n",
    "\n",
    "    func ScaleFunc(v *Vertex, f float64) {\n",
    "        v.X = v.X * f\n",
    "        v.Y = v.Y * f\n",
    "    }\n",
    "\n",
    "    func main() {\n",
    "        v := Vertex{3, 4}\n",
    "        v.Scale(2)\n",
    "        ScaleFunc(&v, 10)    // here if I pass only v it will fail\n",
    "\n",
    "        p := &Vertex{4, 3}\n",
    "        p.Scale(3)\n",
    "        ScaleFunc(p, 8)\n",
    "\n",
    "        fmt.Println(v, p)\n",
    "    }\n",
    "    ```"
   ]
  },
  {
   "cell_type": "markdown",
   "metadata": {},
   "source": [
    "- For the statement `v.Scale(2)`, even though v is a value and not a pointer, the method with the pointer receiver is called automatically. That is, as a convenience, Go interprets the statement `v.Scale(2)` as `(&v).Scale(5)` since the Scale method has a pointer receiver."
   ]
  },
  {
   "cell_type": "markdown",
   "metadata": {},
   "source": [
    "- The equivalent thing happens in the reverse direction.\n",
    "- Functions that take a value argument must take a value of that specific type.\n",
    "- While methods with value receivers take either a value or a pointer as the receiver when they are called.\n",
    "- In this case, the method call p.Abs() is interpreted as (*p).Abs().\n",
    "\n",
    "    ```go\n",
    "    func (v Vertex) Abs() float64 {\n",
    "        return math.Sqrt(v.X*v.X + v.Y*v.Y)\n",
    "    }\n",
    "\n",
    "    func AbsFunc(v Vertex) float64 {\n",
    "        return math.Sqrt(v.X*v.X + v.Y*v.Y)\n",
    "    }\n",
    "\n",
    "    func main() {\n",
    "        v := Vertex{3, 4}\n",
    "        fmt.Println(v.Abs())\n",
    "        fmt.Println(AbsFunc(v))    // here if I pass &v it will fail\n",
    "\n",
    "        p := &Vertex{4, 3}\n",
    "        fmt.Println(p.Abs())\n",
    "        fmt.Println(AbsFunc(*p))\n",
    "    }\n",
    "    ```"
   ]
  },
  {
   "cell_type": "markdown",
   "metadata": {},
   "source": [
    "- Choosing between Value or Pointer receiver. There are two reasons to use a pointer receiver.\n",
    "\n",
    "    - The first is so that the method can modify the value that its receiver points to.\n",
    "    - The second is to avoid copying the value on each method call. This can be more efficient if the receiver is a large struct, for example.\n",
    "    \n",
    "- In general, all methods on a given type should have either value or pointer receivers, but not a mixture of both."
   ]
  },
  {
   "cell_type": "markdown",
   "metadata": {},
   "source": [
    "## Interfaces"
   ]
  },
  {
   "cell_type": "markdown",
   "metadata": {},
   "source": [
    "- An interface type is defined as a set of method signatures.\n",
    "- A value of interface type can hold any value that implements those methods.\n",
    "- Interfaces are implemented implicitly\n",
    "- A type implements an interface by implementing its methods. There is no explicit declaration of intent, no \"implements\" keyword.\n",
    "- Implicit interfaces decouple the definition of an interface from its implementation, which could then appear in any package without prearrangement."
   ]
  },
  {
   "cell_type": "markdown",
   "metadata": {},
   "source": [
    "- \n",
    "    ```go\n",
    "    type I interface {\n",
    "        M()\n",
    "    }\n",
    "\n",
    "    type T struct {\n",
    "        S string\n",
    "    }\n",
    "\n",
    "    // This method means type T implements the interface I,\n",
    "    // but we don't need to explicitly declare t`hat it does so.\n",
    "    func (t T) M() {\n",
    "        fmt.Println(t.S)\n",
    "    }\n",
    "\n",
    "    func main() {\n",
    "        var i I = T{\"hello\"}\n",
    "        i.M()\n",
    "    }\n",
    "    ```"
   ]
  },
  {
   "cell_type": "markdown",
   "metadata": {},
   "source": [
    "- Under the covers, interface values can be thought of as a tuple of a value and a concrete type `(value, type)`\n",
    "- An interface value holds a value of a specific underlying concrete type.\n",
    "\n",
    "    ```go\n",
    "    func (t *T) M() {\n",
    "        fmt.Println(t.S)\n",
    "    }\n",
    "\n",
    "    type F float64\n",
    "\n",
    "    func (f F) M() {\n",
    "        fmt.Println(f)\n",
    "    }\n",
    "\n",
    "    func main() {\n",
    "        var i I\n",
    "\n",
    "        i = &T{\"Hello\"}\n",
    "        describe(i)\n",
    "        i.M()\n",
    "    \n",
    "        i = F(math.Pi)\n",
    "        describe(i)\n",
    "        i.M()\n",
    "    }\n",
    "\n",
    "    func describe(i I) {\n",
    "        fmt.Printf(\"(%v, %T)\\n\", i, i)\n",
    "    }\n",
    "    ```\n"
   ]
  },
  {
   "cell_type": "markdown",
   "metadata": {},
   "source": [
    "- Type Assertion\n",
    "- A type assertion provides access to an interface value's underlying concrete value.\n",
    "- `t := i.(T)`\n",
    "- This statement asserts that the interface value i holds the concrete type T and assigns the underlying T value to the variable t.\n",
    "- If i does not hold a T, the statement will trigger a panic.\n",
    "\n",
    "    ```go\n",
    "    func main() {\n",
    "        var i interface{} = \"hello\"\n",
    "\n",
    "        s := i.(string)\n",
    "        fmt.Println(s)\n",
    "\n",
    "        s, ok := i.(string)\n",
    "        fmt.Println(s, ok)\n",
    "\n",
    "        f, ok := i.(float64)\n",
    "        fmt.Println(f, ok)\n",
    "    \n",
    "        f = i.(float64) // panic\n",
    "        fmt.Println(f)\n",
    "    }\n",
    "    ```"
   ]
  },
  {
   "cell_type": "markdown",
   "metadata": {},
   "source": [
    "- Type Switch\n",
    "- A type switch is a construct that permits several type assertions in series.\n",
    "- A type switch is like a regular switch statement, but the cases in a type switch specify types (not values), and those values are compared against the type of the value held by the given interface value.\n",
    "\n",
    "    ```go\n",
    "    switch v := i.(type) {\n",
    "    case T:\n",
    "        // here v has type T\n",
    "    case S:\n",
    "        // here v has type S\n",
    "    default:\n",
    "        // no match; here v has the same type as i\n",
    "    }\n",
    "    ```"
   ]
  },
  {
   "cell_type": "markdown",
   "metadata": {},
   "source": [
    "## Stringers"
   ]
  },
  {
   "cell_type": "markdown",
   "metadata": {},
   "source": [
    "- One of the most ubiquitous interfaces is Stringer defined by the fmt package.\n",
    "- A Stringer is a type that can describe itself as a string. The fmt package (and many others) look for this interface to print values.\n",
    "\n",
    "    ```go\n",
    "    type Stringer interface {\n",
    "        String() string\n",
    "    }\n",
    "    ```\n",
    "    \n",
    "    e.g.\n",
    "    \n",
    "    ```go\n",
    "    type Person struct {\n",
    "        Name string\n",
    "        Age  int\n",
    "    }\n",
    "\n",
    "    func (p Person) String() string {\n",
    "        return fmt.Sprintf(\"%v (%v years)\", p.Name, p.Age)\n",
    "    }\n",
    "\n",
    "    func main() {\n",
    "        a := Person{\"Arthur Dent\", 42}\n",
    "        z := Person{\"Zaphod Beeblebrox\", 9001}\n",
    "        fmt.Println(a, z)\n",
    "    }\n",
    "    ```"
   ]
  },
  {
   "cell_type": "markdown",
   "metadata": {},
   "source": [
    "## Errors"
   ]
  },
  {
   "cell_type": "markdown",
   "metadata": {},
   "source": [
    "- Go programs express error state with error values.\n",
    "- The error type is a built-in interface similar to fmt.Stringer:\n",
    "    \n",
    "    ```go\n",
    "    type error interface {\n",
    "        Error() string\n",
    "    }\n",
    "    ```\n",
    "    \n",
    "- (As with fmt.Stringer, the fmt package looks for the error interface when printing values.)\n",
    "- Functions often return an error value, and calling code should handle errors by testing whether the error equals nil."
   ]
  },
  {
   "cell_type": "markdown",
   "metadata": {},
   "source": [
    "- e.g.\n",
    "\n",
    "    ```go\n",
    "    type MyError struct {\n",
    "        When time.Time\n",
    "        What string\n",
    "    }\n",
    "\n",
    "    func (e *MyError) Error() string {\n",
    "        return fmt.Sprintf(\"at %v, %s\",\n",
    "            e.When, e.What)\n",
    "    }\n",
    "\n",
    "    func run() error {\n",
    "        return &MyError{\n",
    "            time.Now(),\n",
    "            \"it didn't work\",\n",
    "        }\n",
    "    }\n",
    "\n",
    "    func main() {\n",
    "        if err := run(); err != nil {\n",
    "            fmt.Println(err)\n",
    "        }\n",
    "    }\n",
    "    ```"
   ]
  },
  {
   "cell_type": "markdown",
   "metadata": {},
   "source": [
    "## Readers"
   ]
  },
  {
   "cell_type": "markdown",
   "metadata": {},
   "source": [
    "- The io package specifies the io.Reader interface, which represents the read end of a stream of data.\n",
    "- The Go has many implementations of these interfaces, files, network connections, compressors, ciphers, etc.\n",
    "- The io.Reader interface has a Read method:\n",
    "\n",
    "    ```go\n",
    "    func (T) Read(b []byte) (n int, err error)\n",
    "    ```\n",
    "- Read populates the given byte slice with data and returns the number of bytes populated and an error value. It returns an io.EOF error when the stream ends.\n",
    "\n",
    "    ```go\n",
    "    func main() {\n",
    "        r := strings.NewReader(\"Hello, Reader!\")\n",
    "\n",
    "        b := make([]byte, 8)\n",
    "        for {\n",
    "            n, err := r.Read(b)\n",
    "            fmt.Printf(\"n = %v err = %v b = %v\\n\", n, err, b)\n",
    "            fmt.Printf(\"b[:n] = %q\\n\", b[:n])\n",
    "            if err == io.EOF {\n",
    "                break\n",
    "            }\n",
    "        }\n",
    "    }\n",
    "    ```"
   ]
  },
  {
   "cell_type": "markdown",
   "metadata": {},
   "source": [
    "## Channels"
   ]
  },
  {
   "cell_type": "markdown",
   "metadata": {},
   "source": [
    "- Channels are a typed conduit through which you can send and receive values with the channel operator, `<-`.\n",
    "    ```go\n",
    "    ch <- v    // Send v to channel ch.\n",
    "    v := <-ch  // Receive from ch, and\n",
    "               // assign value to v.\n",
    "    ```\n",
    "\n",
    "- (The data flows in the direction of the arrow.)\n",
    "- Like maps and slices, channels must be created before use:\n",
    "    ```go\n",
    "    ch := make(chan int)\n",
    "    ```\n",
    "    \n",
    "- By default, sends and receives block until the other side is ready. This allows goroutines to synchronize without explicit locks or condition variables."
   ]
  },
  {
   "cell_type": "markdown",
   "metadata": {},
   "source": [
    "## Buffered Channels"
   ]
  },
  {
   "cell_type": "markdown",
   "metadata": {},
   "source": [
    "- Channels can be buffered. Provide the buffer length as the second argument to make to initialize a buffered channel:\n",
    "    ```go\n",
    "    ch := make(chan int, 100)\n",
    "    ```\n",
    "\n",
    "- Sends to a buffered channel block only when the buffer is full. Receives block when the buffer is empty.\n",
    "- A sender can close a channel to indicate that no more values will be sent. Receivers can test whether a channel has been closed by assigning a second parameter to the receive expression: after:\n",
    "    ```go\n",
    "    v, ok := <-ch\n",
    "    ```\n",
    "- `ok` is `false` if there are no more values to receive and the channel is closed."
   ]
  },
  {
   "cell_type": "markdown",
   "metadata": {},
   "source": [
    "- The loop `for i := range c` receives values from the channel repeatedly until it is closed.\n",
    "- Only the sender should close a channel, never the receiver. Sending on a closed channel will cause a panic.\n",
    "- Channels aren't like files; you don't usually need to close them. Closing is only necessary when the receiver must be told there are no more values coming, such as to terminate a range loop."
   ]
  },
  {
   "cell_type": "markdown",
   "metadata": {},
   "source": [
    "- The select statement lets a goroutine wait on multiple communication operations.\n",
    "\n",
    "- A select blocks until one of its cases can run, then it executes that case. It chooses one at random if multiple are ready.\n",
    "\n",
    "    ```go\n",
    "    func fibonacci(c, quit chan int) {\n",
    "        x, y := 0, 1\n",
    "        for {\n",
    "            select {\n",
    "            case c <- x:\n",
    "                x, y = y, x+y\n",
    "            case <-quit:\n",
    "                fmt.Println(\"quit\")\n",
    "                return\n",
    "            }\n",
    "        }\n",
    "    }\n",
    "    func main() {\n",
    "        c := make(chan int)\n",
    "        quit := make(chan int)\n",
    "        go func() {\n",
    "            for i := 0; i < 10; i++ {\n",
    "                fmt.Println(<-c)\n",
    "            }\n",
    "            quit <- 0\n",
    "        }()\n",
    "        fibonacci(c, quit)\n",
    "    }\n",
    "    ```"
   ]
  },
  {
   "cell_type": "markdown",
   "metadata": {},
   "source": [
    "- The default case in a select is run if no other case is ready.\n",
    "\n",
    "- Use a default case to try a send or receive without blocking:\n",
    "    ```go\n",
    "    select {\n",
    "    case i := <-c:\n",
    "        // use i\n",
    "    default:\n",
    "        // receiving from c would block\n",
    "    }\n",
    "    ```\n",
    "    \n",
    "- e.g.\n",
    "\n",
    "    ```go\n",
    "    func main() {\n",
    "        tick := time.Tick(100 * time.Millisecond)\n",
    "        boom := time.After(500 * time.Millisecond)\n",
    "        for {\n",
    "            select {\n",
    "            case <-tick:\n",
    "                fmt.Println(\"tick.\")\n",
    "            case <-boom:\n",
    "                fmt.Println(\"BOOM!\")\n",
    "                return\n",
    "            default:\n",
    "                fmt.Println(\"    .\")\n",
    "                time.Sleep(50 * time.Millisecond)\n",
    "            }\n",
    "        }\n",
    "    }\n",
    "    ```"
   ]
  },
  {
   "cell_type": "markdown",
   "metadata": {},
   "source": [
    "Ref:\n",
    "\n",
    "- Tour of Golang https://tour.golang.org/\n",
    "- Where to go after reading tour.golang https://tour.golang.org/concurrency/11"
   ]
  }
 ],
 "metadata": {
  "kernelspec": {
   "display_name": "Golang",
   "language": "go",
   "name": "gophernotes"
  },
  "language_info": {
   "name": "go"
  }
 },
 "nbformat": 4,
 "nbformat_minor": 0
}
