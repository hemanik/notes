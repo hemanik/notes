{
 "cells": [
  {
   "cell_type": "markdown",
   "metadata": {},
   "source": [
    "# Methods"
   ]
  },
  {
   "cell_type": "markdown",
   "metadata": {},
   "source": [
    "- Go does not have classes. However, you can define methods on types.\n",
    "- A method is a function with a special receiver argument.\n",
    "- The receiver appears in its own argument list between the func keyword and the method name."
   ]
  },
  {
   "cell_type": "markdown",
   "metadata": {},
   "source": [
    "- In this example, the Abs method has a receiver of type Vertex named v.\n",
    "\n",
    "    ```go\n",
    "    type Vertex struct {\n",
    "        X, Y float64\n",
    "    }\n",
    "\n",
    "    func (v Vertex) Abs() float64 {\n",
    "        return math.Sqrt(v.X*v.X + v.Y*v.Y)\n",
    "    }\n",
    "    \n",
    "    func main() {\n",
    "        v := Vertex{3, 4}\n",
    "        fmt.Println(v.Abs())\n",
    "    }\n",
    "    ```"
   ]
  },
  {
   "cell_type": "markdown",
   "metadata": {},
   "source": [
    "- Methods are just functions with receiver argument.\n",
    "\n",
    "    ```go\n",
    "    func Abs(v Vertex) float64 {\n",
    "        return math.Sqrt(v.X*v.X + v.Y*v.Y)\n",
    "    }\n",
    "\n",
    "    func main() {\n",
    "        v := Vertex{3, 4}\n",
    "        fmt.Println(Abs(v))\n",
    "    }\n",
    "    ```"
   ]
  },
  {
   "cell_type": "markdown",
   "metadata": {},
   "source": [
    "- You can declare a method on non-struct types, too.\n",
    "- In this example we see a numeric type MyFloat with an Abs method."
   ]
  },
  {
   "cell_type": "markdown",
   "metadata": {},
   "source": [
    "- You can only declare a method with a receiver whose type is defined in the same package as the method. You cannot declare a method with a receiver whose type is defined in another package (which includes the built-in types such as int).\n",
    "\n",
    "    ```go\n",
    "    type MyFloat float64\n",
    "\n",
    "    func (f MyFloat) Abs() float64 {\n",
    "        if f < 0 {\n",
    "            return float64(-f)\n",
    "        }\n",
    "        return float64(f)\n",
    "    }\n",
    "\n",
    "    func main() {\n",
    "        f := MyFloat(-math.Sqrt2)\n",
    "        fmt.Println(f.Abs())\n",
    "    }\n",
    "    ```"
   ]
  },
  {
   "cell_type": "markdown",
   "metadata": {},
   "source": [
    "- Method declaration are not allowed on named types that are themselves pointer types."
   ]
  },
  {
   "cell_type": "markdown",
   "metadata": {},
   "source": [
    "## Pointer Receiver"
   ]
  },
  {
   "cell_type": "markdown",
   "metadata": {},
   "source": [
    "- Pointer receiver\n",
    "\n",
    "    ```go\n",
    "    func (v *Vertex) Scale(f float64) {\n",
    "        v.X = v.X * f\n",
    "        v.Y = v.Y * f\n",
    "    }\n",
    "    ```"
   ]
  },
  {
   "cell_type": "markdown",
   "metadata": {},
   "source": [
    "- Methods with pointer receivers can modify the value to which the receiver points (as Scale does here). Since methods often need to modify their receiver, pointer receivers are more common than value receivers.\n",
    "\n",
    "- This is useful when the data structure is large and we don't want to make copies of it just to change the values of few variables."
   ]
  },
  {
   "cell_type": "markdown",
   "metadata": {},
   "source": [
    "- Passing values by reference\n",
    "\n",
    "    ```go\n",
    "    func Scale(v *Vertex, f float64) {\n",
    "        v.X = v.X * f\n",
    "        v.Y = v.Y * f\n",
    "    }\n",
    "    func main() {\n",
    "        v := Vertex{3, 4}\n",
    "        Scale(&v, 10)\n",
    "    }\n",
    "    ```"
   ]
  },
  {
   "cell_type": "markdown",
   "metadata": {},
   "source": [
    "- Methods and Pointer Indirection\n",
    "\n",
    "    ```go\n",
    "    func (v *Vertex) Scale(f float64) {\n",
    "        v.X = v.X * f\n",
    "        v.Y = v.Y * f\n",
    "    }\n",
    "\n",
    "    func ScaleFunc(v *Vertex, f float64) {\n",
    "        v.X = v.X * f\n",
    "        v.Y = v.Y * f\n",
    "    }\n",
    "\n",
    "    func main() {\n",
    "        v := Vertex{3, 4}\n",
    "        v.Scale(2)\n",
    "        ScaleFunc(&v, 10)    // here if I pass only v it will fail\n",
    "\n",
    "        p := &Vertex{4, 3}\n",
    "        p.Scale(3)\n",
    "        ScaleFunc(p, 8)\n",
    "\n",
    "        fmt.Println(v, p)\n",
    "    }\n",
    "    ```"
   ]
  },
  {
   "cell_type": "markdown",
   "metadata": {},
   "source": [
    "- For the statement `v.Scale(2)`, even though v is a value and not a pointer, the method with the pointer receiver is called automatically. That is, as a convenience, Go interprets the statement `v.Scale(2)` as `(&v).Scale(5)` since the Scale method has a pointer receiver."
   ]
  },
  {
   "cell_type": "markdown",
   "metadata": {},
   "source": [
    "- The equivalent thing happens in the reverse direction.\n",
    "- Functions that take a value argument must take a value of that specific type.\n",
    "- While methods with value receivers take either a value or a pointer as the receiver when they are called."
   ]
  },
  {
   "cell_type": "markdown",
   "metadata": {},
   "source": [
    "- In this case, the method call `p.Abs()` is interpreted as `(*p).Abs()`.\n",
    "\n",
    "    ```go\n",
    "    func (v Vertex) Abs() float64 {\n",
    "        return math.Sqrt(v.X*v.X + v.Y*v.Y)\n",
    "    }\n",
    "\n",
    "    func AbsFunc(v Vertex) float64 {\n",
    "        return math.Sqrt(v.X*v.X + v.Y*v.Y)\n",
    "    }\n",
    "\n",
    "    func main() {\n",
    "        v := Vertex{3, 4}\n",
    "        fmt.Println(v.Abs())\n",
    "        fmt.Println(AbsFunc(v))    // here if I pass &v it will fail\n",
    "\n",
    "        p := &Vertex{4, 3}\n",
    "        fmt.Println(p.Abs())\n",
    "        fmt.Println(AbsFunc(*p))\n",
    "    }\n",
    "    ```"
   ]
  },
  {
   "cell_type": "markdown",
   "metadata": {},
   "source": [
    "- Choosing between Value or Pointer receiver. There are two reasons to use a pointer receiver.\n",
    "\n",
    "    - The first is so that the method can modify the value that its receiver points to.\n",
    "    - The second is to avoid copying the value on each method call. This can be more efficient if the receiver is a large struct, for example.\n",
    "    \n",
    "- In general, all methods on a given type should have either value or pointer receivers, but not a mixture of both."
   ]
  },
  {
   "cell_type": "markdown",
   "metadata": {},
   "source": [
    "## Composed structs"
   ]
  },
  {
   "cell_type": "markdown",
   "metadata": {},
   "source": [
    "- If a struct `A` is made by embedding other structs say `B` so all the methods of `B` are now available in `A`'s object.\n",
    "\n",
    "    ```go\n",
    "    type B struct {\n",
    "        Foo int \n",
    "    }\n",
    "    func (b B) print() {\n",
    "        fmt.Println(b.Foo)\n",
    "    }\n",
    "    type A struct {\n",
    "        B   \n",
    "        Bar int \n",
    "    }\n",
    "    func main() {\n",
    "        var a = A{B{1}, 2}\n",
    "        a.print()            // 1\n",
    "    }\n",
    "    ```"
   ]
  },
  {
   "cell_type": "markdown",
   "metadata": {},
   "source": [
    "- But unlike the Object Oriented Language this is not subclassing."
   ]
  }
 ],
 "metadata": {
  "kernelspec": {
   "display_name": "Golang",
   "language": "go",
   "name": "gophernotes"
  },
  "language_info": {
   "name": "go"
  }
 },
 "nbformat": 4,
 "nbformat_minor": 0
}
