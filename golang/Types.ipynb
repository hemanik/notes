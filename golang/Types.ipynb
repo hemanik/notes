{
 "cells": [
  {
   "cell_type": "markdown",
   "metadata": {},
   "source": [
    "## Types"
   ]
  },
  {
   "cell_type": "markdown",
   "metadata": {},
   "source": [
    "- Basic: numbers, boolean, strings\n",
    "- Aggregate: arrays, structs\n",
    "- Reference: pointers, slices, maps, functions and channels\n",
    "- Interfaces"
   ]
  },
  {
   "cell_type": "markdown",
   "metadata": {},
   "source": [
    "- Rune is a single character in single quotes, similar to char in C\n",
    "- We can use `%c` to print char, or use %q with the quotes."
   ]
  },
  {
   "cell_type": "markdown",
   "metadata": {},
   "source": [
    "## Arrays"
   ]
  },
  {
   "cell_type": "markdown",
   "metadata": {},
   "source": [
    "- The type `[n]T` is an array of `n` values of type `T`.\n",
    "\n",
    "    ```go\n",
    "    var a [10]int\n",
    "    \n",
    "    OR\n",
    "    \n",
    "    primes := [6]int{2, 3, 5, 7, 11, 13}\n",
    "    ```"
   ]
  },
  {
   "cell_type": "markdown",
   "metadata": {},
   "source": [
    "- Array Literal\n",
    "\n",
    "    ```go\n",
    "    [3]bool{true, true, false}\n",
    "    ```"
   ]
  },
  {
   "cell_type": "markdown",
   "metadata": {},
   "source": [
    "- If array literal is defined as with ellipsis instead of size, array length is determined by number of elements\n",
    "\n",
    "    ```go\n",
    "    [...]int{1, 2, 3, 4, 5, 6}\n",
    "    ```"
   ]
  },
  {
   "cell_type": "markdown",
   "metadata": {},
   "source": [
    "- Normally array takes value of \"zero\" form of that type, but we can customize values like following:\n",
    "\n",
    "    ```go\n",
    "    a := [...]int{3: -1, -2}  // Array of size five with last two elements as -1 and -2\n",
    "    fmt.Printf(\"%#v\\n\", a)    // [5]int{0, 0, 0, -1, -2}\n",
    "    ```"
   ]
  },
  {
   "cell_type": "markdown",
   "metadata": {},
   "source": [
    "- The size of array is part of the type. i.e. array declared as `[2]int` it is of type `[2]int`. Following is totally fine.\n",
    "    ```go\n",
    "    a := [3]int{1, 2, 3}\n",
    "    a = [3]int{4, 5, 6}\n",
    "    ```\n",
    "    \n",
    "- This is not correct.\n",
    "\n",
    "    ```go\n",
    "    b := [2]int{4, 5}\n",
    "    b = [3]int{4, 7, 8}   // type mismatch\n",
    "    ```"
   ]
  },
  {
   "cell_type": "markdown",
   "metadata": {},
   "source": [
    "- We can define array similar to Maps, but the array indexes have to be int and constants.\n",
    "\n",
    "    ```go\n",
    "    const (\n",
    "        BLR = 2\n",
    "        PNQ = 4\n",
    "        AWB = 6\n",
    "    )\n",
    "\n",
    "    airports := [...]string{PNQ: \"Pune\", BLR: \"Bangalore\", AWB: \"Aurangabad\"}\n",
    "    fmt.Println(airports[AWB])      // Aurangabad\n",
    "    fmt.Printf(\"%#v\\n\", airports)   // [7]string{\"\", \"\", \"Bangalore\", \"\", \"Pune\", \"\", \"Aurangabad\"}\n",
    "\n",
    "    ```"
   ]
  },
  {
   "cell_type": "markdown",
   "metadata": {},
   "source": [
    "- Array Comparison, arrays of same size can be compared to check if each and every element matches.\n",
    "\n",
    "    ```go\n",
    "    a := [3]int{1, 2, 3}\n",
    "    b := [...]int{1, 2, 3}\n",
    "    c := [3]int{1, 2}\n",
    "    d := [2]int{1, 2}\n",
    "    fmt.Println(a == b) // true\n",
    "    fmt.Println(b == c) // false\n",
    "    fmt.Println(c == d) // invalid operation: c == d (mismatched types [3]int and [2]int)\n",
    "    ```"
   ]
  },
  {
   "cell_type": "markdown",
   "metadata": {},
   "source": [
    "- Arrays by default are passed as a copy not reference."
   ]
  },
  {
   "cell_type": "markdown",
   "metadata": {},
   "source": [
    "## Slices"
   ]
  },
  {
   "cell_type": "markdown",
   "metadata": {},
   "source": [
    "- Arrays - fixed size.\n",
    "- Slices - dynamically sized.\n",
    "- The type `[]T` is a slice with elements of type `T`.\n",
    "\n",
    "    ```go\n",
    "    var s []int = primes[1:4]\n",
    "    ```"
   ]
  },
  {
   "cell_type": "markdown",
   "metadata": {},
   "source": [
    "- Slice are of the form half-open intervals, that include the first element and exclude the last one.\n",
    "- Slices are like references to arrays\n",
    "- A slice does not store any data, it just describes a section of an underlying array. Changing the elements of a slice modifies the corresponding elements of its underlying array. Other slices that share the same underlying array will see those changes."
   ]
  },
  {
   "cell_type": "markdown",
   "metadata": {},
   "source": [
    "- Slice Literal, A slice literal is like an array literal without the length.\n",
    "\n",
    "    ```go\n",
    "    r := []bool{true, true, false}\n",
    "    \n",
    "    s := []struct {\n",
    "        i int\n",
    "        b bool\n",
    "    }{\n",
    "        {2, true},\n",
    "        {23, false},\n",
    "        {21, true}\n",
    "    }\n",
    "    ```"
   ]
  },
  {
   "cell_type": "markdown",
   "metadata": {},
   "source": [
    "- Slice Literal looks like array literal but it but size not given, this implictly creates an array but yeilds a slice that points to it."
   ]
  },
  {
   "cell_type": "markdown",
   "metadata": {},
   "source": [
    "- Slice has three components viz. Pointer, Length, Capacity.\n",
    "- Slice length and capacity\n",
    "\n",
    "    ```go\n",
    "    r := []int{1, 3, 4, 5, 6, 7, 8, 9, 10}\n",
    "    fmt.Println(len(r[2:4]), cap(r[2:4]))\n",
    "    ```\n",
    "    output\n",
    "    ```bash\n",
    "    2 7\n",
    "    ```\n",
    "    \n",
    "- The length of a slice is the number of elements it contains, it cannot exceed capacity.\n",
    "- The capacity of a slice is the number of elements in the underlying array, counting from the first element in the slice."
   ]
  },
  {
   "cell_type": "markdown",
   "metadata": {},
   "source": [
    "- Slicing beyond capacity causes panic and slicing beyond length will extend the slice.\n",
    "- Slice is a pointer to an element in underlying array, so passing it is by reference by default.\n",
    "- Slices cannot be compared similar to arrays, except for the slices of bytes can be compared with `bytes.Equal`. Since slice is a reference it can only be used for either *reference identity* or *nil*"
   ]
  },
  {
   "cell_type": "markdown",
   "metadata": {},
   "source": [
    "- Creating Slice with make\n",
    "    ```go\n",
    "    b := make([]int, 0, 5) // len(b)=0, cap(b)=5\n",
    "    ```"
   ]
  },
  {
   "cell_type": "markdown",
   "metadata": {},
   "source": [
    "- Slices of Slices\n",
    "\n",
    "    ```go\n",
    "    // Create a tic-tac-toe board.\n",
    "\tboard := [][]string{\n",
    "\t\t[]string{\"_\", \"_\", \"_\"},\n",
    "\t\t[]string{\"_\", \"_\", \"_\"},\n",
    "\t\t[]string{\"_\", \"_\", \"_\"},\n",
    "\t}\n",
    "\n",
    "    ```"
   ]
  },
  {
   "cell_type": "markdown",
   "metadata": {},
   "source": [
    "- Appending to slices\n",
    "\n",
    "    ```go\n",
    "    var s []int\n",
    "    s = append(s, 2, 3, 4)\n",
    "    ```\n",
    "    output\n",
    "    ```bash\n",
    "    2 3 4\n",
    "    ```\n",
    "\n",
    "- If the backing array of s is too small to fit all the given values a bigger array will be allocated. The returned slice will point to the newly allocated array."
   ]
  },
  {
   "cell_type": "markdown",
   "metadata": {},
   "source": [
    "- Append slice to slice, ellipsis how to \n",
    "\n",
    "    ```go\n",
    "    x = append(x, x...)\n",
    "    ```"
   ]
  }
 ],
 "metadata": {
  "kernelspec": {
   "display_name": "Golang",
   "language": "go",
   "name": "gophernotes"
  },
  "language_info": {
   "name": "go"
  }
 },
 "nbformat": 4,
 "nbformat_minor": 0
}
