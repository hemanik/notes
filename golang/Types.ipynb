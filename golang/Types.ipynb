{
 "cells": [
  {
   "cell_type": "markdown",
   "metadata": {},
   "source": [
    "## Types"
   ]
  },
  {
   "cell_type": "markdown",
   "metadata": {},
   "source": [
    "- Basic: numbers, boolean, strings\n",
    "- Aggregate: arrays, structs\n",
    "- Reference: pointers, slices, maps, functions and channels\n",
    "- Interfaces"
   ]
  },
  {
   "cell_type": "markdown",
   "metadata": {},
   "source": [
    "- Rune is a single character in single quotes, similar to char in C\n",
    "- We can use `%c` to print char, or use %q with the quotes."
   ]
  },
  {
   "cell_type": "markdown",
   "metadata": {},
   "source": [
    "## Arrays"
   ]
  },
  {
   "cell_type": "markdown",
   "metadata": {},
   "source": [
    "- The type `[n]T` is an array of `n` values of type `T`.\n",
    "\n",
    "    ```go\n",
    "    var a [10]int\n",
    "    \n",
    "    OR\n",
    "    \n",
    "    primes := [6]int{2, 3, 5, 7, 11, 13}\n",
    "    ```"
   ]
  },
  {
   "cell_type": "markdown",
   "metadata": {},
   "source": [
    "- Array Literal\n",
    "\n",
    "    ```go\n",
    "    [3]bool{true, true, false}\n",
    "    ```"
   ]
  },
  {
   "cell_type": "markdown",
   "metadata": {},
   "source": [
    "- If array literal is defined as with ellipsis instead of size, array length is determined by number of elements\n",
    "\n",
    "    ```go\n",
    "    [...]int{1, 2, 3, 4, 5, 6}\n",
    "    ```"
   ]
  },
  {
   "cell_type": "markdown",
   "metadata": {},
   "source": [
    "- Normally array takes value of \"zero\" form of that type, but we can customize values like following:\n",
    "\n",
    "    ```go\n",
    "    a := [...]int{3: -1, -2}  // Array of size five with last two elements as -1 and -2\n",
    "    fmt.Printf(\"%#v\\n\", a)    // [5]int{0, 0, 0, -1, -2}\n",
    "    ```"
   ]
  },
  {
   "cell_type": "markdown",
   "metadata": {},
   "source": [
    "- The size of array is part of the type. i.e. array declared as `[2]int` it is of type `[2]int`. Following is totally fine.\n",
    "    ```go\n",
    "    a := [3]int{1, 2, 3}\n",
    "    a = [3]int{4, 5, 6}\n",
    "    ```\n",
    "    \n",
    "- This is not correct.\n",
    "\n",
    "    ```go\n",
    "    b := [2]int{4, 5}\n",
    "    b = [3]int{4, 7, 8}   // type mismatch\n",
    "    ```"
   ]
  },
  {
   "cell_type": "markdown",
   "metadata": {},
   "source": [
    "- We can define array similar to Maps, but the array indexes have to be int and constants.\n",
    "\n",
    "    ```go\n",
    "    const (\n",
    "        BLR = 2\n",
    "        PNQ = 4\n",
    "        AWB = 6\n",
    "    )\n",
    "\n",
    "    airports := [...]string{PNQ: \"Pune\", BLR: \"Bangalore\", AWB: \"Aurangabad\"}\n",
    "    fmt.Println(airports[AWB])      // Aurangabad\n",
    "    fmt.Printf(\"%#v\\n\", airports)   // [7]string{\"\", \"\", \"Bangalore\", \"\", \"Pune\", \"\", \"Aurangabad\"}\n",
    "\n",
    "    ```"
   ]
  },
  {
   "cell_type": "markdown",
   "metadata": {},
   "source": [
    "- Array Comparison, arrays of same size can be compared to check if each and every element matches.\n",
    "\n",
    "    ```go\n",
    "    a := [3]int{1, 2, 3}\n",
    "    b := [...]int{1, 2, 3}\n",
    "    c := [3]int{1, 2}\n",
    "    d := [2]int{1, 2}\n",
    "    fmt.Println(a == b) // true\n",
    "    fmt.Println(b == c) // false\n",
    "    fmt.Println(c == d) // invalid operation: c == d (mismatched types [3]int and [2]int)\n",
    "    ```"
   ]
  },
  {
   "cell_type": "markdown",
   "metadata": {},
   "source": [
    "- Arrays by default are passed as a copy not reference."
   ]
  },
  {
   "cell_type": "markdown",
   "metadata": {},
   "source": [
    "## Slices"
   ]
  },
  {
   "cell_type": "markdown",
   "metadata": {},
   "source": [
    "- Arrays - fixed size.\n",
    "- Slices - dynamically sized.\n",
    "- The type `[]T` is a slice with elements of type `T`.\n",
    "\n",
    "    ```go\n",
    "    var s []int = primes[1:4]\n",
    "    ```"
   ]
  },
  {
   "cell_type": "markdown",
   "metadata": {},
   "source": [
    "- Creating slice of specific size at start.\n",
    "\n",
    "    ```go\n",
    "    subjects := make([]string, 0, len(hours))\n",
    "    ```"
   ]
  },
  {
   "cell_type": "markdown",
   "metadata": {},
   "source": [
    "- Slice are of the form half-open intervals, that include the first element and exclude the last one.\n",
    "- Slices are like references to arrays\n",
    "- A slice does not store any data, it just describes a section of an underlying array. Changing the elements of a slice modifies the corresponding elements of its underlying array. Other slices that share the same underlying array will see those changes."
   ]
  },
  {
   "cell_type": "markdown",
   "metadata": {},
   "source": [
    "- Slice Literal, A slice literal is like an array literal without the length.\n",
    "\n",
    "    ```go\n",
    "    r := []bool{true, true, false}\n",
    "    \n",
    "    s := []struct {\n",
    "        i int\n",
    "        b bool\n",
    "    }{\n",
    "        {2, true},\n",
    "        {23, false},\n",
    "        {21, true}\n",
    "    }\n",
    "    ```"
   ]
  },
  {
   "cell_type": "markdown",
   "metadata": {},
   "source": [
    "- Slice Literal looks like array literal but it but size not given, this implictly creates an array but yeilds a slice that points to it."
   ]
  },
  {
   "cell_type": "markdown",
   "metadata": {},
   "source": [
    "- Slice has three components viz. Pointer, Length, Capacity.\n",
    "- Slice length and capacity\n",
    "\n",
    "    ```go\n",
    "    r := []int{1, 3, 4, 5, 6, 7, 8, 9, 10}\n",
    "    fmt.Println(len(r[2:4]), cap(r[2:4]))\n",
    "    ```\n",
    "    output\n",
    "    ```bash\n",
    "    2 7\n",
    "    ```\n",
    "    \n",
    "- The length of a slice is the number of elements it contains, it cannot exceed capacity.\n",
    "- The capacity of a slice is the number of elements in the underlying array, counting from the first element in the slice."
   ]
  },
  {
   "cell_type": "markdown",
   "metadata": {},
   "source": [
    "- Slicing beyond capacity causes panic and slicing beyond length will extend the slice.\n",
    "- Slice is a pointer to an element in underlying array, so passing it is by reference by default.\n",
    "- Slices cannot be compared similar to arrays, except for the slices of bytes can be compared with `bytes.Equal`. Since slice is a reference it can only be used for either *reference identity* or *nil*"
   ]
  },
  {
   "cell_type": "markdown",
   "metadata": {},
   "source": [
    "- Creating Slice with make\n",
    "    ```go\n",
    "    b := make([]int, 0, 5) // len(b)=0, cap(b)=5\n",
    "    ```"
   ]
  },
  {
   "cell_type": "markdown",
   "metadata": {},
   "source": [
    "- Slices of Slices\n",
    "\n",
    "    ```go\n",
    "    // Create a tic-tac-toe board.\n",
    "\tboard := [][]string{\n",
    "\t\t[]string{\"_\", \"_\", \"_\"},\n",
    "\t\t[]string{\"_\", \"_\", \"_\"},\n",
    "\t\t[]string{\"_\", \"_\", \"_\"},\n",
    "\t}\n",
    "\n",
    "    ```"
   ]
  },
  {
   "cell_type": "markdown",
   "metadata": {},
   "source": [
    "- Appending to slices\n",
    "\n",
    "    ```go\n",
    "    var s []int\n",
    "    s = append(s, 2, 3, 4)\n",
    "    ```\n",
    "    output\n",
    "    ```bash\n",
    "    2 3 4\n",
    "    ```\n",
    "\n",
    "- If the backing array of s is too small to fit all the given values a bigger array will be allocated. The returned slice will point to the newly allocated array."
   ]
  },
  {
   "cell_type": "markdown",
   "metadata": {},
   "source": [
    "- Append slice to slice, ellipsis how to \n",
    "\n",
    "    ```go\n",
    "    x = append(x, x...)\n",
    "    ```"
   ]
  },
  {
   "cell_type": "markdown",
   "metadata": {},
   "source": [
    "## Maps"
   ]
  },
  {
   "cell_type": "markdown",
   "metadata": {},
   "source": [
    "- Similar to `dict` in python\n",
    "- Map maps keys to values\n",
    "\n",
    "    ```go\n",
    "    y := make(map[int]string)\n",
    "    y[1] = \"one\"\n",
    "    ```\n",
    "\n",
    "- A map is a refernce to data structure created by make. When we pass it to other function it receives copy of the reference, so even if we pass it to other functions and if it makes changes, those appear in the data structure."
   ]
  },
  {
   "cell_type": "markdown",
   "metadata": {},
   "source": [
    "- Unlike python all the keys of map are of same type and all the values are of same type.\n",
    "- Key should be some value which is comparable with `==` operator, key can be floating point numbers but its a bad idea to use them.\n",
    "- Value can be anything."
   ]
  },
  {
   "cell_type": "markdown",
   "metadata": {},
   "source": [
    "- Map Literals\n",
    "    ```go\n",
    "    x := map[int]string{\n",
    "\t\t1: \"one\",\n",
    "\t\t2: \"two\",\n",
    "\t\t3: \"three\",\n",
    "\t}\n",
    "    ```\n",
    "\n",
    "- **Note**: the comma after last field(`3: \"three\"`) is necessary, otherwise it would give error."
   ]
  },
  {
   "cell_type": "markdown",
   "metadata": {},
   "source": [
    "- Making changes to map\n",
    "    \n",
    "    Delete an element:\n",
    "    ```go\n",
    "    delete(m, key)   // remove element m[key]\n",
    "    ```\n",
    "    \n",
    "    Test that a key is present with a two-value assignment:\n",
    "    ```go\n",
    "    elem, ok = m[key]\n",
    "    ```\n",
    "    If `key` is in `m`, `ok` is `true`. If not, `ok` is `false`. If `key` is not in the map, then `elem` is the `zero` value for the map's element type."
   ]
  },
  {
   "cell_type": "markdown",
   "metadata": {},
   "source": [
    "- Unlike python, all operations(lookup, len, delete, range) on map are safe even if the element is not in the map.\n",
    "- So lookup on the key that is not present returns zero value of that value type.\n",
    "- You cannot get address of individual map elements i.e. `ptr := &m[key]` will give compiler error.\n",
    "- Zero Value of the map type is `nil`\n",
    "- Maps cannot be compared to each other except for the `nil`."
   ]
  },
  {
   "cell_type": "markdown",
   "metadata": {},
   "source": [
    "- To check if the element exists in map we can do a lookup that looks like this:\n",
    "    ```go\n",
    "    a[1] = \"one\"\n",
    "    num, ok := a[2]     // num=\"\" and ok=false\n",
    "    ```"
   ]
  },
  {
   "cell_type": "markdown",
   "metadata": {},
   "source": [
    "- Comparing maps\n",
    "\n",
    "    ```go\n",
    "    func compareMaps(a, b map[int]string) bool {\n",
    "        if len(a) != len(b) {\n",
    "            return false\n",
    "        }   \n",
    "        for key, valA := range a { \n",
    "            if valB, ok := b[key]; !ok || valA != valB {\n",
    "                return false\n",
    "            }\n",
    "        }   \n",
    "        return true\n",
    "    }\n",
    "    ```"
   ]
  },
  {
   "cell_type": "markdown",
   "metadata": {},
   "source": [
    "- For using things that don't support equivalent comparison like slice, to use them in maps, you can use a helper function that does the conversion for you, like slice to string and then use that string as key in map.\n",
    "\n",
    "- This can be done using some function like\n",
    "\n",
    "    ```go\n",
    "    func helper(list []string) { return fmt.Sprintf(\"%q\", list) }\n",
    "    ```"
   ]
  },
  {
   "cell_type": "markdown",
   "metadata": {},
   "source": [
    "## Structs"
   ]
  },
  {
   "cell_type": "markdown",
   "metadata": {},
   "source": [
    "- Structs\n",
    "    ```go\n",
    "    type Vertex struct {\n",
    "        X int\n",
    "        Y int\n",
    "    }\n",
    "    v := Vertex{4, 5}\n",
    "    fmt.Println(v.X, v.Y)\n",
    "    ```\n",
    "    \n",
    "- Even in struct if the variables are supposed to be accessed via `.` notation they should start their names with capital letter, otherwise it won't be accessible in some other package."
   ]
  },
  {
   "cell_type": "markdown",
   "metadata": {},
   "source": [
    "- Struct Literals\n",
    "\n",
    "    ```go\n",
    "    v1 := Vertex{X: 1}    // Type 1\n",
    "    v2 := Vertex{4, 5}    // Type 2\n",
    "    ```\n",
    "\n",
    "- The second type should be used if struct in the same package or if the struct represents obvious things, but using it for something complicated, makes it hard to remember, always use 1st type of struct literal."
   ]
  },
  {
   "cell_type": "markdown",
   "metadata": {},
   "source": [
    "- Pointer to structure\n",
    "\n",
    "    ```go\n",
    "    x := &v\n",
    "    x.X = 6\n",
    "    x.Y = 7\n",
    "    ```\n",
    "    \n",
    "    We can use the dot opeartor to access the struct fields."
   ]
  },
  {
   "cell_type": "markdown",
   "metadata": {},
   "source": [
    "- A struct is comparable only if the values of that struct are comparable.\n",
    "- So if a struct is comparable it can be used as a key to a Map."
   ]
  },
  {
   "cell_type": "markdown",
   "metadata": {},
   "source": [
    "- Struct fields can also be anonymous, so if struct A has struct X as a field it can be defined without name, so fields in struct X gets populated in struct A.\n",
    "\n",
    "    ```go\n",
    "    type X struct {\n",
    "        p int\n",
    "        q int\n",
    "    }\n",
    "    ```"
   ]
  },
  {
   "cell_type": "markdown",
   "metadata": {},
   "source": [
    "- So normally someone would define A as\n",
    "    \n",
    "    ```go\n",
    "    type A struct {\n",
    "        foo X\n",
    "        yay int\n",
    "    }\n",
    "    var a A\n",
    "    // access it as\n",
    "    a.foo.p = 10\n",
    "    a.foo.q = 20\n",
    "    a.yay = 30\n",
    "    ```"
   ]
  },
  {
   "cell_type": "markdown",
   "metadata": {},
   "source": [
    "- With this notation you can access it as\n",
    "    ```go\n",
    "    type A struct {\n",
    "        X\n",
    "        Yay int\n",
    "    }\n",
    "    var a A\n",
    "    // access it as\n",
    "    a.p = 10\n",
    "    a.q = 20\n",
    "    a.yay = 30\n",
    "    ```"
   ]
  },
  {
   "cell_type": "markdown",
   "metadata": {},
   "source": [
    "- For both same output\n",
    "\n",
    "    ```go\n",
    "    fmt.Printf(\"%#v\\n\", a)    // main.A{X:main.X{p:10, q:20}, yay:30}\n",
    "    ```"
   ]
  },
  {
   "cell_type": "markdown",
   "metadata": {},
   "source": [
    "- Struct to JSON a.k.a Marshalling.\n",
    "\n",
    "    ```go\n",
    "    import \"encoding/json\"\n",
    "    data, err := json.Marshal(structObject)\n",
    "    ```\n",
    "    \n",
    "- We can control the behavior of the marshalling of the structure using *field tags*. So when doing marshalling instead of using the struct variables it uses, variable names from key value pair `json:\"foo\"`. For below example Myth will be replaced by `illusion` and Virtual will be replaced by `vfx`, also `omitempty` will omit this field if the value is zero type.\n",
    "\n",
    "    ```go\n",
    "    type foo struct {\n",
    "        Real string\n",
    "        Myth string `json:\"illusion\"`\n",
    "        Virtual string `json:\"vfx,omitempty\"`\n",
    "    }\n",
    "    ```"
   ]
  },
  {
   "cell_type": "markdown",
   "metadata": {},
   "source": [
    "- JSON to struct a.k.a UnMarshalling\n",
    "\n",
    "    ```go\n",
    "    var foo []struct{ Name string}\n",
    "    err := json.Unmarshal(data, &foo)\n",
    "    ```\n",
    "    \n",
    "- This will unmarshal only the name part."
   ]
  },
  {
   "cell_type": "markdown",
   "metadata": {},
   "source": [
    "- During unmarshalling the matching process of JSON object name to Struct field name is case-insensitive, you will have to use the field tag only when the JSON object has underscore and your object does not have it."
   ]
  }
 ],
 "metadata": {
  "kernelspec": {
   "display_name": "Golang",
   "language": "go",
   "name": "gophernotes"
  },
  "language_info": {
   "name": "go"
  }
 },
 "nbformat": 4,
 "nbformat_minor": 0
}
