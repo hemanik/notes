{
 "cells": [
  {
   "cell_type": "markdown",
   "metadata": {},
   "source": [
    "# CLI"
   ]
  },
  {
   "cell_type": "markdown",
   "metadata": {},
   "source": [
    "#### Raw cmd line\n",
    "\n",
    "- Simply getting all the cmd line args\n",
    "\n",
    "    ```go\n",
    "    os.Args\n",
    "    ```\n",
    "- `os.Args` provides access to raw command-line arguments. Note that the first value in this slice is the path to the program, and `os.Args[1:]` holds the arguments to the program."
   ]
  },
  {
   "cell_type": "markdown",
   "metadata": {},
   "source": [
    "#### cmd line parsing with flags\n",
    "\n",
    "- `flags` supports basic commandline parsing\n",
    "\n",
    "- Basic flag declarations are available for string, integer, and boolean options. \n",
    "\n",
    "- Here we declare a string flag `word` with a default value `foo` and a short description. This flag.String function returns a string pointer (not a string value).\n",
    "    ```go\n",
    "    wordPtr := flag.String(\"word\", \"foo\", \"a string\")\n",
    "    ```\n",
    "    \n",
    "- Similarly\n",
    "    ```go\n",
    "    numbPtr := flag.Int(\"numb\", 42, \"an int\")\n",
    "    boolPtr := flag.Bool(\"fork\", false, \"a bool\")\n",
    "    ```\n",
    "    \n",
    "- It’s also possible to declare an option that uses an existing var declared elsewhere in the program. Note that we need to pass in a pointer to the flag declaration function.\n",
    "    ```go\n",
    "    var svar string\n",
    "    flag.StringVar(&svar, \"svar\", \"bar\", \"a string var\")\n",
    "    ```\n",
    "    \n",
    "- Once all flags are declared, call flag.Parse() to execute the command-line parsing.\n",
    "    ```go\n",
    "    flag.Parse()\n",
    "    ```\n",
    "    \n",
    "- Access value of `wordPtr` using `*wordPtr` and value of `svar` directly\n",
    "- Trailing positional variables can be accessed by\n",
    "    ```go\n",
    "    flag.Args()\n",
    "    ```\n",
    "-   ```go\n",
    "    ```"
   ]
  },
  {
   "cell_type": "code",
   "execution_count": null,
   "metadata": {
    "collapsed": true
   },
   "outputs": [],
   "source": []
  }
 ],
 "metadata": {
  "kernelspec": {
   "display_name": "Golang",
   "language": "go",
   "name": "gophernotes"
  },
  "language_info": {
   "name": "go"
  }
 },
 "nbformat": 4,
 "nbformat_minor": 0
}
