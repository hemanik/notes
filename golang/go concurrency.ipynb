{
 "cells": [
  {
   "cell_type": "markdown",
   "metadata": {},
   "source": [
    "## Goroutines"
   ]
  },
  {
   "cell_type": "markdown",
   "metadata": {},
   "source": [
    "- A goroutine is a lightweight thread managed by the Go runtime.\n",
    "    ```go\n",
    "    go f(x, y, z)\n",
    "    ```"
   ]
  },
  {
   "cell_type": "markdown",
   "metadata": {},
   "source": [
    "- e.g.\n",
    "    ```go\n",
    "    package main\n",
    "\n",
    "    func main() {\n",
    "        go func() {\n",
    "            println(\"abc\")\n",
    "        }()\n",
    "\n",
    "        func() {\n",
    "            println(\"xyz\")\n",
    "        }()\n",
    "    }\n",
    "    ```\n",
    "\n",
    "- output\n",
    "\n",
    "    ```go\n",
    "    xyz\n",
    "    ```\n",
    "    \n",
    "- This has output only `xyz` because the `main` function executes the second function and exits even before the 1st function(go routine) starts/executes."
   ]
  },
  {
   "cell_type": "markdown",
   "metadata": {},
   "source": [
    "- e.g.\n",
    "\n",
    "    ```go\n",
    "    func main() {\n",
    "        go func() {\n",
    "            println(\"abc\")\n",
    "        }()\n",
    "\n",
    "        go func() {\n",
    "            println(\"xyz\")\n",
    "        }()\n",
    "\t\n",
    "        time.Sleep(time.Second * 1)\t\n",
    "    }\n",
    "    ```\n",
    "    \n",
    "- If the above program has no `Sleep` function call then there will be no output shown just because `main` will exit before others, introducing `time` helps.\n",
    "\n",
    "- If `GOMAXPROCS` value is one and we have multiple go routines then all these go routines will be spawned as threads running concurrently, no parallelism, but if the `GOMAXPROS` > 1 then this means newer go routine threads will be allocated to other processor and will be run in parallel."
   ]
  },
  {
   "cell_type": "markdown",
   "metadata": {},
   "source": [
    "- e.g.\n",
    "\n",
    "    ```go\n",
    "    func main() {\n",
    "    \t//runtime.GOMAXPROCS(2)                          // Uncomment for 3rd output                   \n",
    "        go func() {\n",
    "            for i := 0; i < 5; i++ {\n",
    "                println(\"abc\")\n",
    "                //time.Sleep(time.Millisecond * 10)      // Uncomment for 2nd and 3rd output\n",
    "            }\n",
    "        }()\n",
    "\n",
    "        go func() {\n",
    "            for i := 0; i < 5; i++ {\n",
    "                println(\"xyz\")\n",
    "                //time.Sleep(time.Millisecond * 10)      // Uncomment for 2nd and 3rd output     \n",
    "            }\n",
    "        }()\n",
    "        time.Sleep(time.Second * 1)\n",
    "    }\n",
    "    ```"
   ]
  },
  {
   "cell_type": "markdown",
   "metadata": {},
   "source": [
    "-    output:\n",
    "    ```bash\n",
    "    abc                   ## This output is like this because each function is running\n",
    "    abc                   ## concurrently so they execute comletely in very short amount\n",
    "    abc                   ## of time, even if they are two threads\n",
    "    abc\n",
    "    abc\n",
    "    xyz\n",
    "    xyz\n",
    "    xyz\n",
    "    xyz\n",
    "    xyz\n",
    "    ```"
   ]
  },
  {
   "cell_type": "markdown",
   "metadata": {},
   "source": [
    "-    output with `time.Sleep`\n",
    "    ```bash\n",
    "    abc               ## here we can see a proper multi-threaded output because each thread/routine\n",
    "    xyz               ## sleeps for some time so the runtime runs other thread while one sleeps\n",
    "    xyz\n",
    "    abc\n",
    "    abc\n",
    "    xyz\n",
    "    xyz\n",
    "    abc\n",
    "    abc\n",
    "    xyz\n",
    "    \n",
    "    ```"
   ]
  },
  {
   "cell_type": "markdown",
   "metadata": {},
   "source": [
    "- output with `time.Sleep` and `runtime.GOMAXPROCS`\n",
    "\n",
    "    ```bash\n",
    "    abc\n",
    "    xyz           ## Here actual parallel processing has been done, so here output can be random\n",
    "    abc           ## sometimes two things can be printed on the same line.\n",
    "    xyz\n",
    "    abc\n",
    "    xyz\n",
    "    xyz\n",
    "    abc\n",
    "    xyz\n",
    "    abc\n",
    "    ```"
   ]
  },
  {
   "cell_type": "markdown",
   "metadata": {},
   "source": [
    "- Things that are done sequentially can be spawned in different routines.\n",
    "- Scenario: Downloading some data from some website and then parsing it and showing the results, can be paralleled. Becasue most of the times, the network io is the blocking call, so the execution speeds can be increased by making it parallel."
   ]
  },
  {
   "cell_type": "markdown",
   "metadata": {},
   "source": [
    "### GOMAXPROCS\n",
    "\n",
    "Why doesn't my multi-goroutine program use multiple CPUs?\n",
    "\n",
    "The number of CPUs available simultaneously to executing goroutines is controlled by the `GOMAXPROCS` shell environment variable. In earlier releases of Go, the default value was 1, but as of Go 1.5 the default value is the number of cores available. Therefore programs compiled after 1.5 should demonstrate parallel execution of multiple goroutines. To change the behavior, set the environment variable or use the similarly-named function of the `runtime` package to configure the run-time support to utilize a different number of threads.\n",
    "\n",
    "Programs that perform parallel computation might benefit from a further increase in `GOMAXPROCS`. However, be aware that concurrency is not parallelism.\n",
    "\n",
    "Ref: \n",
    "\n",
    "   - Go FAQ: https://golang.org/doc/faq#Why_no_multi_CPU\n",
    "   - Stack: http://stackoverflow.com/a/17868720"
   ]
  },
  {
   "cell_type": "markdown",
   "metadata": {},
   "source": []
  }
 ],
 "metadata": {
  "kernelspec": {
   "display_name": "Golang",
   "language": "go",
   "name": "gophernotes"
  },
  "language_info": {
   "name": "go"
  }
 },
 "nbformat": 4,
 "nbformat_minor": 0
}
