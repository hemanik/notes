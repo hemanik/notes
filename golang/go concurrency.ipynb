{
 "cells": [
  {
   "cell_type": "markdown",
   "metadata": {},
   "source": [
    "## Goroutines"
   ]
  },
  {
   "cell_type": "markdown",
   "metadata": {},
   "source": [
    "- A goroutine is a lightweight thread managed by the Go runtime.\n",
    "    ```go\n",
    "    go f(x, y, z)\n",
    "    ```"
   ]
  },
  {
   "cell_type": "markdown",
   "metadata": {},
   "source": [
    "- e.g.\n",
    "    ```go\n",
    "    package main\n",
    "\n",
    "    func main() {\n",
    "        go func() {\n",
    "            println(\"abc\")\n",
    "        }()\n",
    "\n",
    "        func() {\n",
    "            println(\"xyz\")\n",
    "        }()\n",
    "    }\n",
    "    ```\n",
    "\n",
    "- output\n",
    "\n",
    "    ```go\n",
    "    xyz\n",
    "    ```\n",
    "    \n",
    "- This has output only `xyz` because the `main` function executes the second function and exits even before the 1st function(go routine) starts/executes."
   ]
  },
  {
   "cell_type": "markdown",
   "metadata": {},
   "source": [
    "- e.g.\n",
    "\n",
    "    ```go\n",
    "    func main() {\n",
    "        go func() {\n",
    "            println(\"abc\")\n",
    "        }()\n",
    "\n",
    "        go func() {\n",
    "            println(\"xyz\")\n",
    "        }()\n",
    "\t\n",
    "        time.Sleep(time.Second * 1)\t\n",
    "    }\n",
    "    ```\n",
    "    \n",
    "- If the above program has no `Sleep` function call then there will be no output shown just because `main` will exit before others, introducing `time` helps.\n",
    "\n",
    "- If `GOMAXPROCS` value is one and we have multiple go routines then all these go routines will be spawned as threads running concurrently, no parallelism, but if the `GOMAXPROS` > 1 then this means newer go routine threads will be allocated to other processor and will be run in parallel."
   ]
  },
  {
   "cell_type": "markdown",
   "metadata": {},
   "source": [
    "- e.g.\n",
    "\n",
    "    ```go\n",
    "    func main() {\n",
    "    \t//runtime.GOMAXPROCS(2)                          // Uncomment for 3rd output                   \n",
    "        go func() {\n",
    "            for i := 0; i < 5; i++ {\n",
    "                println(\"abc\")\n",
    "                //time.Sleep(time.Millisecond * 10)      // Uncomment for 2nd and 3rd output\n",
    "            }\n",
    "        }()\n",
    "\n",
    "        go func() {\n",
    "            for i := 0; i < 5; i++ {\n",
    "                println(\"xyz\")\n",
    "                //time.Sleep(time.Millisecond * 10)      // Uncomment for 2nd and 3rd output     \n",
    "            }\n",
    "        }()\n",
    "        time.Sleep(time.Second * 1)\n",
    "    }\n",
    "    ```"
   ]
  },
  {
   "cell_type": "markdown",
   "metadata": {},
   "source": [
    "-    output:\n",
    "    ```bash\n",
    "    abc                   ## This output is like this because each function is running\n",
    "    abc                   ## concurrently so they execute comletely in very short amount\n",
    "    abc                   ## of time, even if they are two threads\n",
    "    abc\n",
    "    abc\n",
    "    xyz\n",
    "    xyz\n",
    "    xyz\n",
    "    xyz\n",
    "    xyz\n",
    "    ```"
   ]
  },
  {
   "cell_type": "markdown",
   "metadata": {},
   "source": [
    "-    output with `time.Sleep`\n",
    "    ```bash\n",
    "    abc               ## here we can see a proper multi-threaded output because each thread/routine\n",
    "    xyz               ## sleeps for some time so the runtime runs other thread while one sleeps\n",
    "    xyz\n",
    "    abc\n",
    "    abc\n",
    "    xyz\n",
    "    xyz\n",
    "    abc\n",
    "    abc\n",
    "    xyz\n",
    "    \n",
    "    ```"
   ]
  },
  {
   "cell_type": "markdown",
   "metadata": {},
   "source": [
    "- output with `time.Sleep` and `runtime.GOMAXPROCS`\n",
    "\n",
    "    ```bash\n",
    "    abc\n",
    "    xyz           ## Here actual parallel processing has been done, so here output can be random\n",
    "    abc           ## sometimes two things can be printed on the same line.\n",
    "    xyz\n",
    "    abc\n",
    "    xyz\n",
    "    xyz\n",
    "    abc\n",
    "    xyz\n",
    "    abc\n",
    "    ```"
   ]
  },
  {
   "cell_type": "markdown",
   "metadata": {},
   "source": [
    "- Things that are done sequentially can be spawned in different routines.\n",
    "- Scenario: Downloading some data from some website and then parsing it and showing the results, can be paralleled. Becasue most of the times, the network io is the blocking call, so the execution speeds can be increased by making it parallel."
   ]
  },
  {
   "cell_type": "markdown",
   "metadata": {},
   "source": [
    "## Channels"
   ]
  },
  {
   "cell_type": "markdown",
   "metadata": {},
   "source": [
    "- Channels are a typed conduit through which you can send and receive values with the channel operator, `<-`.\n",
    "    ```go\n",
    "    ch <- v    // Send v to channel ch.\n",
    "    v := <-ch  // Receive from ch, and\n",
    "               // assign value to v.\n",
    "    ```\n",
    "\n",
    "- (The data flows in the direction of the arrow.)\n",
    "- Like maps and slices, channels must be created before use:\n",
    "    ```go\n",
    "    ch := make(chan int)\n",
    "    ```\n",
    "    \n",
    "- By default, sends and receives block until the other side is ready. This allows goroutines to synchronize without explicit locks or condition variables.\n",
    "\n",
    "- When reading from a channel which has no data, it gives an error \n",
    "    ```bash\n",
    "    fatal error: all goroutines are asleep -deadlock!\n",
    "    ```\n",
    "- Since no goroutine is writing to it and this is the only goroutine waiting to read, the runtime recognizes this is an errorsome situation and exits out."
   ]
  },
  {
   "cell_type": "markdown",
   "metadata": {},
   "source": [
    "## Buffered Channels"
   ]
  },
  {
   "cell_type": "markdown",
   "metadata": {},
   "source": [
    "- Channels can be buffered. Provide the buffer length as the second argument to make to initialize a buffered channel:\n",
    "    ```go\n",
    "    ch := make(chan int, 100)\n",
    "    ```\n",
    "\n",
    "- Sends to a buffered channel block only when the buffer is full. Receives block when the buffer is empty.\n",
    "- A sender can close a channel to indicate that no more values will be sent. Receivers can test whether a channel has been closed by assigning a second parameter to the receive expression: after:\n",
    "    ```go\n",
    "    v, ok := <-ch\n",
    "    ```\n",
    "- `ok` is `false` if there are no more values to receive and the channel is closed.\n",
    "- Normally channels don't have storage or buffer, so when using a normal channel whenever you write to it, it needs a receiver ready parallely, when there is no receiver ready the message gets stuck at the sender, but using buffered channels we add storage capacity to the channels. "
   ]
  },
  {
   "cell_type": "markdown",
   "metadata": {},
   "source": [
    "- The loop `for i := range c` receives values from the channel repeatedly until it is closed.\n",
    "- Only the sender should close a channel, never the receiver. Sending on a closed channel will cause a panic.\n",
    "- Channels aren't like files; you don't usually need to close them. Closing is only necessary when the receiver must be told there are no more values coming, such as to terminate a range loop."
   ]
  },
  {
   "cell_type": "markdown",
   "metadata": {},
   "source": [
    "- The select statement lets a goroutine wait on multiple communication operations.\n",
    "\n",
    "- A select blocks until one of its cases can run, then it executes that case. It chooses one at random if multiple are ready.\n",
    "\n",
    "    ```go\n",
    "    func fibonacci(c, quit chan int) {\n",
    "        x, y := 0, 1\n",
    "        for {\n",
    "            select {\n",
    "            case c <- x:\n",
    "                x, y = y, x+y\n",
    "            case <-quit:\n",
    "                fmt.Println(\"quit\")\n",
    "                return\n",
    "            }\n",
    "        }\n",
    "    }\n",
    "    func main() {\n",
    "        c := make(chan int)\n",
    "        quit := make(chan int)\n",
    "        go func() {\n",
    "            for i := 0; i < 10; i++ {\n",
    "                fmt.Println(<-c)\n",
    "            }\n",
    "            quit <- 0\n",
    "        }()\n",
    "        fibonacci(c, quit)\n",
    "    }\n",
    "    ```"
   ]
  },
  {
   "cell_type": "markdown",
   "metadata": {},
   "source": [
    "- Go can listen on multiple channels at once. And can respond if message comes in on any of them.\n",
    "\n",
    "- The default case in a select is run if no other case is ready.\n",
    "\n",
    "- Use a default case to try a send or receive without blocking:\n",
    "    ```go\n",
    "    select {\n",
    "    case i := <-c:\n",
    "        // use i\n",
    "    default:\n",
    "        // receiving from c would block\n",
    "    }\n",
    "    ```\n",
    "    \n",
    "- e.g.\n",
    "\n",
    "    ```go\n",
    "    func main() {\n",
    "        tick := time.Tick(100 * time.Millisecond)\n",
    "        boom := time.After(500 * time.Millisecond)\n",
    "        for {\n",
    "            select {\n",
    "            case <-tick:\n",
    "                fmt.Println(\"tick.\")\n",
    "            case <-boom:\n",
    "                fmt.Println(\"BOOM!\")\n",
    "                return\n",
    "            default:\n",
    "                fmt.Println(\"    .\")\n",
    "                time.Sleep(50 * time.Millisecond)\n",
    "            }\n",
    "        }\n",
    "    }\n",
    "    ```"
   ]
  },
  {
   "cell_type": "markdown",
   "metadata": {},
   "source": [
    "- Asynchronous Data transfer\n",
    "\n",
    "    ```go\n",
    "    func main() {\n",
    "        a := []int{1, 2, 3, 4, 5}\n",
    "        l := len(a)\n",
    "\t\n",
    "        ch := make(chan int, l)\n",
    "        for i := 0; i < l; i++ {\n",
    "            ch <- a[i] * a[i]\n",
    "        }\n",
    "        close(ch)\n",
    "\t\n",
    "        for d := range ch {\n",
    "            print(d, \" \")\n",
    "        }\n",
    "    }\n",
    "    ```"
   ]
  },
  {
   "cell_type": "markdown",
   "metadata": {},
   "source": [
    "### GOMAXPROCS\n",
    "\n",
    "Why doesn't my multi-goroutine program use multiple CPUs?\n",
    "\n",
    "The number of CPUs available simultaneously to executing goroutines is controlled by the `GOMAXPROCS` shell environment variable. In earlier releases of Go, the default value was 1, but as of Go 1.5 the default value is the number of cores available. Therefore programs compiled after 1.5 should demonstrate parallel execution of multiple goroutines. To change the behavior, set the environment variable or use the similarly-named function of the `runtime` package to configure the run-time support to utilize a different number of threads.\n",
    "\n",
    "Programs that perform parallel computation might benefit from a further increase in `GOMAXPROCS`. However, be aware that concurrency is not parallelism.\n",
    "\n",
    "Ref: \n",
    "\n",
    "   - Go FAQ: https://golang.org/doc/faq#Why_no_multi_CPU\n",
    "   - Stack: http://stackoverflow.com/a/17868720"
   ]
  },
  {
   "cell_type": "markdown",
   "metadata": {},
   "source": [
    "- e.g. Async data writing\n",
    "\n",
    "    ```go\n",
    "    func main() {\n",
    "        runtime.GOMAXPROCS(4)\n",
    "    \n",
    "        f, _ := os.Create(\"./xyz\")\n",
    "        f.Close()\n",
    "    \n",
    "        log_chan := make(chan string, 100)\n",
    "        go func() {\n",
    "            for {\n",
    "                msg, ok := <-log_chan\n",
    "                if ok {\n",
    "                    f, _ := os.OpenFile(\"./xyz\", os.O_APPEND|os.O_WRONLY, 0600)\n",
    "                    f.WriteString(msg)\n",
    "                    f.Close()\n",
    "                }\n",
    "            }\n",
    "        }()\n",
    "        \n",
    "        for i := 1; i < 10; i++ {\n",
    "            for j := 1; j < 10; j++ {\n",
    "                log_chan <- fmt.Sprintf(\"%d * %d = %d\\n\", i, j, i*j)\n",
    "            }\n",
    "        }\n",
    "        fmt.Scanln() // added so that main waits for go-routines\n",
    "    }\n",
    "\n",
    "    ```"
   ]
  }
 ],
 "metadata": {
  "kernelspec": {
   "display_name": "Golang",
   "language": "go",
   "name": "gophernotes"
  },
  "language_info": {
   "name": "go"
  }
 },
 "nbformat": 4,
 "nbformat_minor": 0
}
