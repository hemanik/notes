{
 "cells": [
  {
   "cell_type": "markdown",
   "metadata": {},
   "source": [
    "### Scan Input from STDIN"
   ]
  },
  {
   "cell_type": "markdown",
   "metadata": {},
   "source": [
    "- Taking in input from command line\n",
    "    ```go\n",
    "    var name string\n",
    "    fmt.Scanf(\"%s\", &name)\n",
    "    ```"
   ]
  },
  {
   "cell_type": "markdown",
   "metadata": {},
   "source": [
    "- Above method is super simple, we cannot scan lines using above:\n",
    "- Scan lines\n",
    "\n",
    "    ```go\n",
    "    scanner := bufio.NewScanner(os.Stdin)\n",
    "    scanner.Scan()\n",
    "    line := scanner.Text()\n",
    "    fmt.Println(line)\n",
    "    ```"
   ]
  }
 ],
 "metadata": {
  "kernelspec": {
   "display_name": "Golang",
   "language": "go",
   "name": "gophernotes"
  },
  "language_info": {
   "name": "go"
  }
 },
 "nbformat": 4,
 "nbformat_minor": 0
}
