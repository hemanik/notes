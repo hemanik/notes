{
 "cells": [
  {
   "cell_type": "markdown",
   "metadata": {},
   "source": [
    "### get url"
   ]
  },
  {
   "cell_type": "markdown",
   "metadata": {},
   "source": [
    "- Using `\"ioutil.ReadAll\"` to print onto `stdout`.\n",
    "\n",
    "    ```go\n",
    "    resp, _ := http.Get(url)\n",
    "    b, _ := ioutil.ReadAll(resp.Body)\n",
    "    resp.Body.Close()\n",
    "    fmt.Printf(\"%s\", b)\n",
    "    ```"
   ]
  },
  {
   "cell_type": "markdown",
   "metadata": {},
   "source": [
    "- Using `\"io.Copy\"` to only copy from response to `stdout`.\n",
    "\n",
    "    ```go\n",
    "    url := os.Args[1]\n",
    "    resp, _ := http.Get(url)\n",
    "    io.Copy(os.Stdout, resp.Body)\n",
    "    resp.Body.Close()\n",
    "    ```\n",
    "    \n",
    "- Note: In above if you don't read from os.Args it gives error."
   ]
  }
 ],
 "metadata": {
  "kernelspec": {
   "display_name": "Golang",
   "language": "go",
   "name": "gophernotes"
  },
  "language_info": {
   "name": "go"
  }
 },
 "nbformat": 4,
 "nbformat_minor": 0
}
