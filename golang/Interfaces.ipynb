{
 "cells": [
  {
   "cell_type": "markdown",
   "metadata": {},
   "source": [
    "# Interfaces"
   ]
  },
  {
   "cell_type": "markdown",
   "metadata": {},
   "source": [
    "- An interface type is defined as a set of method signatures.\n",
    "- A value of interface type can hold any value that implements those methods.\n",
    "- Interfaces are implemented implicitly\n",
    "- A type implements an interface by implementing its methods. There is no explicit declaration of intent, no \"implements\" keyword."
   ]
  },
  {
   "cell_type": "markdown",
   "metadata": {},
   "source": [
    "- Implicit interfaces decouple the definition of an interface from its implementation, which could then appear in any package without prearrangement.\n",
    "\n",
    "    ```go\n",
    "    type I interface {\n",
    "        M()\n",
    "    }\n",
    "\n",
    "    type T struct {\n",
    "        S string\n",
    "    }\n",
    "\n",
    "    // This method means type T implements the interface I,\n",
    "    // but we don't need to explicitly declare that it does so.\n",
    "    func (t T) M() {\n",
    "        fmt.Println(t.S)\n",
    "    }\n",
    "\n",
    "    func main() {\n",
    "        var i I = T{\"hello\"}\n",
    "        i.M()\n",
    "    }\n",
    "    ```"
   ]
  },
  {
   "cell_type": "markdown",
   "metadata": {},
   "source": [
    "- Under the covers, interface values can be thought of as a tuple of a value and a concrete type `(value, type)`\n",
    "- An interface value holds a value of a specific underlying concrete type.\n",
    "\n",
    "    ```go\n",
    "    func (t *T) M() {\n",
    "        fmt.Println(t.S)\n",
    "    }\n",
    "\n",
    "    type F float64\n",
    "\n",
    "    func (f F) M() {\n",
    "        fmt.Println(f)\n",
    "    }\n",
    "\n",
    "    func main() {\n",
    "        var i I\n",
    "\n",
    "        i = &T{\"Hello\"}\n",
    "        describe(i)\n",
    "        i.M()\n",
    "    \n",
    "        i = F(math.Pi)\n",
    "        describe(i)\n",
    "        i.M()\n",
    "    }\n",
    "\n",
    "    func describe(i I) {\n",
    "        fmt.Printf(\"(%v, %T)\\n\", i, i)\n",
    "    }\n",
    "    ```"
   ]
  },
  {
   "cell_type": "markdown",
   "metadata": {},
   "source": [
    "- Type Assertion\n",
    "- A type assertion provides access to an interface value's underlying concrete value.\n",
    "- `t := i.(T)`\n",
    "- This statement asserts that the interface value i holds the concrete type T and assigns the underlying T value to the variable t.\n",
    "- If i does not hold a T, the statement will trigger a panic.\n",
    "\n",
    "    ```go\n",
    "    func main() {\n",
    "        var i interface{} = \"hello\"\n",
    "\n",
    "        s := i.(string)\n",
    "        fmt.Println(s)\n",
    "\n",
    "        s, ok := i.(string)\n",
    "        fmt.Println(s, ok)\n",
    "\n",
    "        f, ok := i.(float64)\n",
    "        fmt.Println(f, ok)\n",
    "    \n",
    "        f = i.(float64) // panic\n",
    "        fmt.Println(f)\n",
    "    }\n",
    "    ```"
   ]
  },
  {
   "cell_type": "markdown",
   "metadata": {},
   "source": [
    "- Type Switch\n",
    "- A type switch is a construct that permits several type assertions in series.\n",
    "- A type switch is like a regular switch statement, but the cases in a type switch specify types (not values), and those values are compared against the type of the value held by the given interface value.\n",
    "\n",
    "    ```go\n",
    "    switch v := i.(type) {\n",
    "    case T:\n",
    "        // here v has type T\n",
    "    case S:\n",
    "        // here v has type S\n",
    "    default:\n",
    "        // no match; here v has the same type as i\n",
    "    }\n",
    "    ```"
   ]
  },
  {
   "cell_type": "markdown",
   "metadata": {},
   "source": [
    "- Similar to struct embedding we can do interface embedding."
   ]
  },
  {
   "cell_type": "markdown",
   "metadata": {},
   "source": [
    "## Interface assignment"
   ]
  },
  {
   "cell_type": "markdown",
   "metadata": {},
   "source": [
    "- The expression can be assigned to an interface if its type satisfies the interface."
   ]
  }
 ],
 "metadata": {
  "kernelspec": {
   "display_name": "Golang",
   "language": "go",
   "name": "gophernotes"
  },
  "language_info": {
   "name": "go"
  }
 },
 "nbformat": 4,
 "nbformat_minor": 0
}
