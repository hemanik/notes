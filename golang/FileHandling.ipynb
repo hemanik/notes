{
 "cells": [
  {
   "cell_type": "markdown",
   "metadata": {},
   "source": [
    "#### Appending to a file"
   ]
  },
  {
   "cell_type": "markdown",
   "metadata": {},
   "source": [
    "- e.g.\n",
    "\n",
    "    ```go\n",
    "    f, _ := os.OpenFile(filename, os.O_APPEND|os.O_WRONLY, 0600)\n",
    "    f.WriteString(\"hey\")\n",
    "    f.Close()\n",
    "    ```\n",
    "    \n",
    "- Here file should already exist, otherwise it gives error as - `invalid argument`"
   ]
  }
 ],
 "metadata": {
  "kernelspec": {
   "display_name": "Golang",
   "language": "go",
   "name": "gophernotes"
  },
  "language_info": {
   "name": "go"
  }
 },
 "nbformat": 4,
 "nbformat_minor": 0
}
