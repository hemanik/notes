{
 "cells": [
  {
   "cell_type": "markdown",
   "metadata": {},
   "source": [
    "#### Git merge from someone else's fork\n",
    "\n",
    "- Add their github fork repo as a remote to a clone of your own repo:\n",
    "    \n",
    "    ```bash\n",
    "    git remote add other-guys-repo <url to other guys repo>\n",
    "    ```\n",
    "\n",
    "- Get their changes:\n",
    "\n",
    "    ```bash\n",
    "    git fetch other-guys-repo\n",
    "    ```\n",
    "\n",
    "- Checkout the branch where you want to merge:\n",
    "\n",
    "    ```bash\n",
    "    git checkout my_new_branch\n",
    "    ```\n",
    "\n",
    "- Merge their changes in (assuming they did their work on the master branch):\n",
    "\n",
    "    ```bash\n",
    "    git merge other-guys-repo/master\n",
    "    ```\n",
    "\n",
    "- Resolve conflicts, commit the resolutions and voila.\n",
    "\n",
    "- Ref: http://stackoverflow.com/a/5606062"
   ]
  },
  {
   "cell_type": "markdown",
   "metadata": {},
   "source": [
    "#### How to pull remote branch from somebody else's repo\n",
    "\n",
    "- \n",
    "    ```bash\n",
    "    git remote add coworker git://path/to/coworkers/repo.git\n",
    "    git fetch coworker\n",
    "    git checkout --track coworker/foo\n",
    "    ```\n",
    "\n",
    "- This will setup a local branch foo, tracking the remote branch coworker/foo. So when your coworker has made some changes, you can easily pull them:\n",
    "\n",
    "    ```bash\n",
    "    git checkout foo\n",
    "    git pull\n",
    "    ```\n",
    "    \n",
    "- Ref: http://stackoverflow.com/a/5884825"
   ]
  }
 ],
 "metadata": {
  "kernelspec": {
   "display_name": "Python 3",
   "language": "python",
   "name": "python3"
  },
  "language_info": {
   "codemirror_mode": {
    "name": "ipython",
    "version": 3
   },
   "file_extension": ".py",
   "mimetype": "text/x-python",
   "name": "python",
   "nbconvert_exporter": "python",
   "pygments_lexer": "ipython3",
   "version": "3.4.3"
  }
 },
 "nbformat": 4,
 "nbformat_minor": 0
}
