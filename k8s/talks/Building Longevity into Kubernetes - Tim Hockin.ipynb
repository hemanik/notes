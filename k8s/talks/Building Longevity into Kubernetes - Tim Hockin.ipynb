{
 "cells": [
  {
   "cell_type": "markdown",
   "metadata": {},
   "source": [
    "# Building Longevity into Kubernetes - Tim Hockin"
   ]
  },
  {
   "cell_type": "markdown",
   "metadata": {},
   "source": [
    "- Modularity is built into kubernetes.\n",
    "- 12 yrs Experience of running containers from google has helped.\n",
    "- But open source world is far too much diverse than what google internally is.\n",
    "- From the very beginning\n",
    "    - Modularity\n",
    "    - Extensibility\n",
    "    - Pluggability\n",
    "\n",
    "- Master components - **etcd**, **apiserver**, **scheduler**, **controller manager**\n",
    "- Node components - **kubelet**, **kube-proxy**, **container runtime**\n",
    "\n",
    "- But apart from those core components there are many other composnents like\n",
    "- **kube-dns**, **fluentd**, **elasticsearch**, **dashboard**, **load balancers**, **heapster**, **influxdb**, etc"
   ]
  },
  {
   "cell_type": "markdown",
   "metadata": {},
   "source": [
    "## Modularity\n",
    "\n",
    "- Loosely coupled system\n",
    "- Highly coupled system are brittle and tend to break.\n",
    "- Isolate risk, if some part is to be replaced it can be done without harming other parts of the system\n",
    "- So many interchangable parts\n",
    "- Which result in a more robust and adaptable system"
   ]
  },
  {
   "cell_type": "markdown",
   "metadata": {},
   "source": [
    "## Cloud Providers\n",
    "\n",
    "- Abstraction for what cloud you are running be it in GCE, Amazon, OpenStack, etc\n",
    "- Right now it is linked as a library, but work going on to make it pluggable as such that you don't build k8s"
   ]
  },
  {
   "cell_type": "markdown",
   "metadata": {},
   "source": [
    "## Container Runtime\n",
    "\n",
    "- Created this abstraction to help support multiple container runtimes apart from docker\n",
    "- `runtime` lib gives an abstration of what is happening underneath\n",
    "- Runtime API abstracts containers and implements pods\n",
    "- In devel mode right now are rkt, hyper\n",
    "- Runtime is supported via library as well work is going on to make it pluggable without having to rebuild the code base to support new runtime"
   ]
  },
  {
   "cell_type": "markdown",
   "metadata": {},
   "source": [
    "## Scheduler\n",
    "\n",
    "- Scheduler is very pluggable.\n",
    "- Anyone can write a scheduler, also you run multiple schedulers in a single cluster"
   ]
  },
  {
   "cell_type": "markdown",
   "metadata": {},
   "source": [
    "## Network Plugins\n",
    "\n",
    "- CNI spec\n",
    "- Simple interface that lets hand control off to the third party that wanna setup the network\n",
    "- Since networks are different depending on what you are running on and where you are running on.\n",
    "- CNI lets us setup network however we want, we can write CNI plugins in shell scripts.\n",
    "- No Docker's libnetwork right now."
   ]
  },
  {
   "cell_type": "markdown",
   "metadata": {},
   "source": [
    "## Storage Plugins\n",
    "\n",
    "- Around 20 plugins right now available\n",
    "- Builtin API\n",
    "- Flex plugin - lets you drop an alternative binary with a cmd line interface at the time of mount, to run custom things"
   ]
  },
  {
   "cell_type": "markdown",
   "metadata": {},
   "source": [
    "## Load Balancing\n",
    "\n",
    "- Services are L3/L4 (IP + port)\n",
    "- People want more of HTTP/HTTPS\n",
    "- Added `ingress` a Load Balancing API\n",
    "- Ingress is a generic Layer7 load balancer API, it lets you describe things like a map of hostnames and url paths into k8s services on the backend\n",
    "- GCE, nginx, HAProxy, Amazon, etc.\n",
    "- You can as a dev, code to the ingress API, write app using ingress and don't care of what is actually serving the ingress, so deploy anywhere and you get a Load Balancer of that cloud environment"
   ]
  },
  {
   "cell_type": "markdown",
   "metadata": {},
   "source": [
    "## APIserver\n",
    "\n",
    "- CRUD\n",
    "- Unified API concept all APIs kinda work the same, same basic verbs\n",
    "- `ThirdPartyResource`: store your objects as JSON in API, you provide it a valid data by writing a control loop\n",
    "- By doing this you create a new kind.\n",
    "- `NetworkPolicy` is created in this way\n",
    "- Federated API servers: Multiple API servers running inside your clusters and each api server serves the sub portion of API space, Third Party resources on steroids, third party resources let you only do CRUD, with this you can do validation, error checking, referential intgreity."
   ]
  },
  {
   "cell_type": "markdown",
   "metadata": {},
   "source": [
    "## Kube-proxy\n",
    "\n",
    "- Services are an abstration: a stable IP that fronts N pods\n",
    "- default implementation is iptables, but that is just one way to do it.\n",
    "- does not work in every particular case, especially if you combine it with network plugins\n",
    "- `iptables` is not the only implementation of how it is done\n",
    "- people have replaced this iptables implementation with real SDN provided ips and made services actually have the function of load balancing"
   ]
  },
  {
   "cell_type": "markdown",
   "metadata": {},
   "source": [
    "## Other plugins\n",
    "\n",
    "- apiserver\n",
    "    - Authorization authentication plugins\n",
    "    - mission control plugins, hook for object filtering and modification on their way by applying policies\n",
    "    - API storage\n",
    "\n",
    "- scheduler\n",
    "    - predicates and priorities extendors\n",
    "\n",
    "- kubelet\n",
    "    -credentials\n",
    "\n",
    "- kube-dns\n",
    "    - replacable"
   ]
  },
  {
   "cell_type": "markdown",
   "metadata": {},
   "source": [
    "## Links:\n",
    "\n",
    "- Event: Core OS Fest 2016 San Fransico\n",
    "- Video: https://www.youtube.com/watch?v=9laotgt09-o\n",
    "- Slides: https://speakerdeck.com/thockin/kubernetes-extensibility"
   ]
  }
 ],
 "metadata": {
  "kernelspec": {
   "display_name": "Python 3",
   "language": "python",
   "name": "python3"
  },
  "language_info": {
   "codemirror_mode": {
    "name": "ipython",
    "version": 3
   },
   "file_extension": ".py",
   "mimetype": "text/x-python",
   "name": "python",
   "nbconvert_exporter": "python",
   "pygments_lexer": "ipython3",
   "version": "3.4.3"
  }
 },
 "nbformat": 4,
 "nbformat_minor": 0
}
