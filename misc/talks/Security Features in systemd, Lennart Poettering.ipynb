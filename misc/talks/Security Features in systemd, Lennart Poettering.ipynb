{
 "cells": [
  {
   "cell_type": "markdown",
   "metadata": {},
   "source": [
    "## Security Features in systemd, Lennart Poettering"
   ]
  },
  {
   "cell_type": "markdown",
   "metadata": {},
   "source": [
    "### `PrivateTmp=yes|no`\n",
    "\n",
    "- If its turned on then your service will get its private `/tmp` and `/var/tmp`\n",
    "- No other service will be able to see it\n",
    "- Lifecycle is bound to service runtime\n",
    "- Traditionally there is no lifetime for `/tmp` but this will introduce one"
   ]
  },
  {
   "cell_type": "markdown",
   "metadata": {},
   "source": [
    "### `JoinNamespaceOf=`\n",
    "\n",
    "- Run two services in same namespace\n",
    "- Since these services are in same namespace they will share `/tmp`\n",
    "- So this helps in `IPC` between services that use `/tmp` for placing `AF_UNIX` sockets"
   ]
  },
  {
   "cell_type": "markdown",
   "metadata": {},
   "source": [
    "### `CapabilityBoundingSet=`\n",
    "\n",
    "- Makes use of Linux Capabilities\n",
    "- Don't run process as root, rather run it in normal privilege and assign required capability\n",
    "- List those capabilities names, and that's what service gets and nothing else\n",
    "- Kinda addition in nothing"
   ]
  },
  {
   "cell_type": "markdown",
   "metadata": {},
   "source": [
    "### `AmbientCapabilities=`\n",
    "\n",
    "- Give all privileges of normal user in addition give capabilities defined in `AmbientCapabilities`"
   ]
  },
  {
   "cell_type": "markdown",
   "metadata": {},
   "source": [
    "### `PrivateDevices=yes|no`\n",
    "\n",
    "- Run a service but give it a private instance of `/dev`\n",
    "- Contains all the psuedo devices like `/dev/null`, `/dev/zero`, `/dev/random`, etc"
   ]
  },
  {
   "cell_type": "markdown",
   "metadata": {},
   "source": [
    "### `ProtectHome=yes|no|read-only`\n",
    "\n",
    "- Protects `/home` from a service\n",
    "- Most services should not have access to whole `/home`\n",
    "- `yes:` service runs, it sees everything except `/home` and `/root`\n",
    "- `read-only:` weaker of `yes`"
   ]
  },
  {
   "cell_type": "markdown",
   "metadata": {},
   "source": [
    "### `ProtectSystem=yes|no|full`\n",
    "\n",
    "- `yes:` run the service but make `/usr` read-only\n",
    "- `full:` `/etc` read-only"
   ]
  },
  {
   "cell_type": "markdown",
   "metadata": {},
   "source": [
    "### `MountFlags=slave`\n",
    "\n",
    "- A service with this set will not be able to make any changes to mounting table"
   ]
  },
  {
   "cell_type": "markdown",
   "metadata": {},
   "source": [
    "### `ReadWriteDirectories=`\n",
    "### `ReadOnlyDirectories=`\n",
    "### `InaccessiblrDirectories=`\n",
    "\n",
    "- Powerful tool to do things explictly\n",
    "- Like `ProtectSystem` and `ProtectHome` are high level directives, of the above concept"
   ]
  },
  {
   "cell_type": "markdown",
   "metadata": {},
   "source": [
    "### `SELinuxContext=`\n",
    "### `AppArmorProfile=`\n",
    "### `SmackProcessLevel=`\n",
    "\n",
    "- Explicitly select `SELinuxContext` for process"
   ]
  },
  {
   "cell_type": "markdown",
   "metadata": {},
   "source": [
    "### `NoNewPrivileges=yes|no`\n",
    "\n",
    "- Anything that is spawned in this process, may not acquire new privileges\n",
    "- No more `UID/GID` changes, capability acquiring\n",
    "- `setuid/setgid/fcaps` on files lose their power"
   ]
  },
  {
   "cell_type": "markdown",
   "metadata": {},
   "source": [
    "### `SystemCallFilter=`\n",
    "\n",
    "- Put filters on systemcall for specific services"
   ]
  },
  {
   "cell_type": "markdown",
   "metadata": {},
   "source": [
    "### `SystemCallArchitectures=`\n",
    "\n",
    "- With this process cannot do 32bit syscalls on 64bit kernel\n",
    "- e.g. `SystemCallArchitecture=native` This will not allow running 32bit binaries on 64bit arch"
   ]
  },
  {
   "cell_type": "markdown",
   "metadata": {},
   "source": [
    "### `PrivateNetwork=yes|no`\n",
    "\n",
    "- Most service don't need access to network\n",
    "- A service when its running will get access to `loopback` device and will not get access to any other network, infact the service will not even see any other network interface\n",
    "- Great way to build sandbox since no access from remote"
   ]
  },
  {
   "cell_type": "markdown",
   "metadata": {},
   "source": [
    "### `RestrictAddressFamilies=`\n",
    "\n",
    "- With this service can create any socket as long as its a Unix socket\n",
    "- e.g. `RestrictAddressFamilies=AF_UNIX`"
   ]
  },
  {
   "cell_type": "markdown",
   "metadata": {},
   "source": [
    "### `User=`\n",
    "### `Group=`\n",
    "### `SupplementaryGroups=`\n",
    "\n",
    "- Run any kinda service you like under UserID, GroupID or SupplemetaryGroupID mentioned here\n",
    "- This makes sure this does not run as root but any other user"
   ]
  },
  {
   "cell_type": "markdown",
   "metadata": {},
   "source": [
    "### `LimitNPROC=`\n",
    "\n",
    "- Sets the number of processes a particular user can have"
   ]
  },
  {
   "cell_type": "markdown",
   "metadata": {},
   "source": [
    "### `RootDirectory=`\n",
    "\n",
    "- Similar to classic `chroot`"
   ]
  },
  {
   "cell_type": "markdown",
   "metadata": {},
   "source": [
    "### `LimitFSIZE=0`\n",
    "\n",
    "- Limit on file size for a service can create\n",
    "- By setting `0` we have limited that process from creating any file"
   ]
  },
  {
   "cell_type": "markdown",
   "metadata": {},
   "source": [
    "### `DeviceAllow=`\n",
    "\n",
    "- want to allow specific kinda device\n",
    "- e.g. `DeviceAllow=/dev/sda5 rwm` this service gets access to no devices except `/dev/sda5`, and it can read write or create a device node for it"
   ]
  },
  {
   "cell_type": "markdown",
   "metadata": {},
   "source": [
    "### `TasksMax=`\n",
    "\n",
    "- This service will have this many number of processes/threads at any time\n",
    "- end of `fork()` bombs"
   ]
  },
  {
   "cell_type": "markdown",
   "metadata": {},
   "source": [
    "Links:\n",
    "\n",
    "- Video: https://www.youtube.com/watch?v=hiW8eIdcRgo\n",
    "- Schedule: https://coreosfest2016.sched.org/event/6T0Y/keynote-security-features-in-systemd-lennart-poettering"
   ]
  }
 ],
 "metadata": {
  "kernelspec": {
   "display_name": "Python 3",
   "language": "python",
   "name": "python3"
  },
  "language_info": {
   "codemirror_mode": {
    "name": "ipython",
    "version": 3
   },
   "file_extension": ".py",
   "mimetype": "text/x-python",
   "name": "python",
   "nbconvert_exporter": "python",
   "pygments_lexer": "ipython3",
   "version": "3.4.3"
  }
 },
 "nbformat": 4,
 "nbformat_minor": 0
}
