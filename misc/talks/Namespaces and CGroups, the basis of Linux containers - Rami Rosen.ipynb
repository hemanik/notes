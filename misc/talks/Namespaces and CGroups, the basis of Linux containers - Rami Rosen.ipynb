{
 "cells": [
  {
   "cell_type": "markdown",
   "metadata": {},
   "source": [
    "# Namespaces and CGroups, the basis of Linux containers - Rami Rosen\n",
    "\n",
    "\n",
    "Desc: It is clear to everyone that containers are getting a growing part in our world. This tutorial will describe the kernel infrastructure of Linux Container projects, namely the Namespaces and CGroups subsystems, focusing on its network aspects (like Network namespaces and CGroups networking kernel modules)."
   ]
  },
  {
   "cell_type": "markdown",
   "metadata": {},
   "source": [
    "## Intro\n",
    "\n",
    "- Namespace subsystem and cgroup subsystem are basis of lightweight process virtualization\n",
    "- Lightweight process virtualization = Linux containers"
   ]
  },
  {
   "cell_type": "markdown",
   "metadata": {},
   "source": [
    "## `cgroup` subsystem\n",
    "\n",
    "- `cgroup` (control group) subsystem\n",
    "- Resource management and resource accounting\n",
    "- Resources - memory, cpu, network, io\n",
    "- File based subsystem, every operation is a file operation\n",
    "- Implementation: **cgroup core** and **cgroup controllers**\n",
    "- working with `cgroup` first step is to mount it\n",
    "- various controller in kernel - `blkio`, `cpu`, `cpuset`, `devices`, `freezer`, `hugetlb`, `memory`, `pids`\n",
    "- `cgroup` v1 has multiple hierarchies, see `/sys/fs/cgroup/`\n",
    "- `cgroup` v2 has only single hierarchy and is strict about hierarchical behavior\n",
    "- `cgroup` v2 is mounted with filesystem cgroup2"
   ]
  },
  {
   "cell_type": "markdown",
   "metadata": {},
   "source": [
    "## Migrating processes and threads\n",
    "\n",
    "- `cgroup` v2 is process granular\n",
    "- Every process belongs to one and only one `cgroup`"
   ]
  },
  {
   "cell_type": "markdown",
   "metadata": {},
   "source": [
    "## Namespaces\n",
    "\n",
    "- Six namespaces in kernel currently viz. `mnt`, `pid`, `net`, `ipc`, `uts`, `user`, etc.\n",
    "- Depending on the flag you can specify which namespace to create\n",
    "- To implement namespaces two system calls were added `unshare()` and `setns()`\n",
    "- While older `clone()` now creates new process as well as namespace and attaches that process to that new namespace."
   ]
  },
  {
   "cell_type": "markdown",
   "metadata": {},
   "source": [
    "### UTS namespace\n",
    "\n",
    "- Provides a way to get information about the system"
   ]
  },
  {
   "cell_type": "markdown",
   "metadata": {},
   "source": [
    "### Mount namespace\n",
    "\n",
    "- Allows each process to have its own view of filesystem"
   ]
  },
  {
   "cell_type": "markdown",
   "metadata": {},
   "source": [
    "### PID namespace\n",
    "\n",
    "- Mimics the behavoir of a system \n",
    "- `pid` namespaces can be nested\n",
    "\n",
    "### User Namespace\n",
    "\n",
    "- Allow a non-root user to create container"
   ]
  },
  {
   "cell_type": "markdown",
   "metadata": {},
   "source": [
    "### Network Namespace\n",
    "\n",
    "- It is another copy of network stack\n",
    "- It has its own routing tables, firewall rules and network devices\n",
    "- `loopback` devices, `SNMP` stats, sockets, `/procfs` and `/sysfs` entries\n",
    "- At this point of time a network device belongs to one network namespace\n",
    "- Socket belongs to one network namespace\n",
    "- Each newly created network namespace will only have `loopback` device\n",
    "- A default initial network namespace is `init_set`\n",
    "- You can easily move a network devices from a `init_set` initial network namespace to a newly created one."
   ]
  },
  {
   "cell_type": "markdown",
   "metadata": {},
   "source": [
    "### cgroup namespace\n",
    "\n",
    "- Currently under discussion\n",
    "- Goal is to hide information of host from container"
   ]
  },
  {
   "cell_type": "markdown",
   "metadata": {},
   "source": [
    "## Links:\n",
    "\n",
    "- Video : https://www.youtube.com/watch?v=zMJD8PJKoYQ\n",
    "- Talk Abstract: http://www.netdevconf.org/1.1/tutorial-namespaces-and-cgroups-basis-linux-containers-rami-rosen.html\n",
    "- Slides: http://haifux.org/lectures/299/netLec7.pdf\n",
    "- Other Slides: http://files.meetup.com/18720713/Namespaces_Cgroups_Conatiners.pdf"
   ]
  }
 ],
 "metadata": {
  "kernelspec": {
   "display_name": "Python 3",
   "language": "python",
   "name": "python3"
  },
  "language_info": {
   "codemirror_mode": {
    "name": "ipython",
    "version": 3
   },
   "file_extension": ".py",
   "mimetype": "text/x-python",
   "name": "python",
   "nbconvert_exporter": "python",
   "pygments_lexer": "ipython3",
   "version": "3.4.3"
  }
 },
 "nbformat": 4,
 "nbformat_minor": 0
}
